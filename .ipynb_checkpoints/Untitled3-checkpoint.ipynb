{
 "cells": [
  {
   "cell_type": "code",
   "execution_count": 29,
   "metadata": {},
   "outputs": [],
   "source": [
    "import numpy as np\n",
    "import pandas as pd \n",
    "import seaborn as sns \n",
    "import matplotlib.pyplot as plt\n",
    "\n",
    "\n",
    "from sklearn.model_selection import train_test_split\n",
    "from sklearn.linear_model import SGDClassifier\n",
    "from sklearn.pipeline import make_pipeline\n",
    "from sklearn.preprocessing import StandardScaler\n",
    "from sklearn.linear_model import LinearRegression"
   ]
  },
  {
   "cell_type": "code",
   "execution_count": null,
   "metadata": {},
   "outputs": [],
   "source": []
  },
  {
   "cell_type": "code",
   "execution_count": 30,
   "metadata": {},
   "outputs": [],
   "source": [
    "data = pd.read_excel('Dataset_Entreprise.xls')"
   ]
  },
  {
   "cell_type": "code",
   "execution_count": 31,
   "metadata": {
    "scrolled": true
   },
   "outputs": [
    {
     "data": {
      "text/html": [
       "<div>\n",
       "<style scoped>\n",
       "    .dataframe tbody tr th:only-of-type {\n",
       "        vertical-align: middle;\n",
       "    }\n",
       "\n",
       "    .dataframe tbody tr th {\n",
       "        vertical-align: top;\n",
       "    }\n",
       "\n",
       "    .dataframe thead th {\n",
       "        text-align: right;\n",
       "    }\n",
       "</style>\n",
       "<table border=\"1\" class=\"dataframe\">\n",
       "  <thead>\n",
       "    <tr style=\"text-align: right;\">\n",
       "      <th></th>\n",
       "      <th>Row ID</th>\n",
       "      <th>Order ID</th>\n",
       "      <th>Order Date</th>\n",
       "      <th>Ship Date</th>\n",
       "      <th>Ship Mode</th>\n",
       "      <th>Customer ID</th>\n",
       "      <th>Customer Name</th>\n",
       "      <th>Segment</th>\n",
       "      <th>Country</th>\n",
       "      <th>City</th>\n",
       "      <th>State</th>\n",
       "      <th>Region</th>\n",
       "      <th>Product ID</th>\n",
       "      <th>Category</th>\n",
       "      <th>Sub-Category</th>\n",
       "      <th>Sales</th>\n",
       "      <th>Quantity</th>\n",
       "      <th>Discount</th>\n",
       "      <th>Profit</th>\n",
       "    </tr>\n",
       "  </thead>\n",
       "  <tbody>\n",
       "    <tr>\n",
       "      <th>0</th>\n",
       "      <td>1</td>\n",
       "      <td>CA-2013-152156</td>\n",
       "      <td>2014-11-09</td>\n",
       "      <td>2014-11-12</td>\n",
       "      <td>Second Class</td>\n",
       "      <td>CG-12520</td>\n",
       "      <td>Claire Gute</td>\n",
       "      <td>Consumer</td>\n",
       "      <td>United States</td>\n",
       "      <td>Henderson</td>\n",
       "      <td>Kentucky</td>\n",
       "      <td>South</td>\n",
       "      <td>FUR-BO-10001798</td>\n",
       "      <td>Furniture</td>\n",
       "      <td>Bookcases</td>\n",
       "      <td>261.9600</td>\n",
       "      <td>2</td>\n",
       "      <td>0.00</td>\n",
       "      <td>41.9136</td>\n",
       "    </tr>\n",
       "    <tr>\n",
       "      <th>1</th>\n",
       "      <td>2</td>\n",
       "      <td>CA-2013-152156</td>\n",
       "      <td>2014-11-09</td>\n",
       "      <td>2014-11-12</td>\n",
       "      <td>Second Class</td>\n",
       "      <td>CG-12520</td>\n",
       "      <td>Claire Gute</td>\n",
       "      <td>Consumer</td>\n",
       "      <td>United States</td>\n",
       "      <td>Henderson</td>\n",
       "      <td>Kentucky</td>\n",
       "      <td>South</td>\n",
       "      <td>FUR-CH-10000454</td>\n",
       "      <td>Furniture</td>\n",
       "      <td>Chairs</td>\n",
       "      <td>731.9400</td>\n",
       "      <td>3</td>\n",
       "      <td>0.00</td>\n",
       "      <td>219.5820</td>\n",
       "    </tr>\n",
       "    <tr>\n",
       "      <th>2</th>\n",
       "      <td>3</td>\n",
       "      <td>CA-2013-138688</td>\n",
       "      <td>2014-06-13</td>\n",
       "      <td>2014-06-17</td>\n",
       "      <td>Second Class</td>\n",
       "      <td>DV-13045</td>\n",
       "      <td>Darrin Van Huff</td>\n",
       "      <td>Corporate</td>\n",
       "      <td>United States</td>\n",
       "      <td>Los Angeles</td>\n",
       "      <td>California</td>\n",
       "      <td>West</td>\n",
       "      <td>OFF-LA-10000240</td>\n",
       "      <td>Office Supplies</td>\n",
       "      <td>Labels</td>\n",
       "      <td>14.6200</td>\n",
       "      <td>2</td>\n",
       "      <td>0.00</td>\n",
       "      <td>6.8714</td>\n",
       "    </tr>\n",
       "    <tr>\n",
       "      <th>3</th>\n",
       "      <td>4</td>\n",
       "      <td>US-2012-108966</td>\n",
       "      <td>2013-10-11</td>\n",
       "      <td>2013-10-18</td>\n",
       "      <td>Standard Class</td>\n",
       "      <td>SO-20335</td>\n",
       "      <td>Sean O'Donnell</td>\n",
       "      <td>Consumer</td>\n",
       "      <td>United States</td>\n",
       "      <td>Fort Lauderdale</td>\n",
       "      <td>Florida</td>\n",
       "      <td>South</td>\n",
       "      <td>FUR-TA-10000577</td>\n",
       "      <td>Furniture</td>\n",
       "      <td>Tables</td>\n",
       "      <td>957.5775</td>\n",
       "      <td>5</td>\n",
       "      <td>0.45</td>\n",
       "      <td>-383.0310</td>\n",
       "    </tr>\n",
       "    <tr>\n",
       "      <th>4</th>\n",
       "      <td>5</td>\n",
       "      <td>US-2012-108966</td>\n",
       "      <td>2013-10-11</td>\n",
       "      <td>2013-10-18</td>\n",
       "      <td>Standard Class</td>\n",
       "      <td>SO-20335</td>\n",
       "      <td>Sean O'Donnell</td>\n",
       "      <td>Consumer</td>\n",
       "      <td>United States</td>\n",
       "      <td>Fort Lauderdale</td>\n",
       "      <td>Florida</td>\n",
       "      <td>South</td>\n",
       "      <td>OFF-ST-10000760</td>\n",
       "      <td>Office Supplies</td>\n",
       "      <td>Storage</td>\n",
       "      <td>22.3680</td>\n",
       "      <td>2</td>\n",
       "      <td>0.20</td>\n",
       "      <td>2.5164</td>\n",
       "    </tr>\n",
       "  </tbody>\n",
       "</table>\n",
       "</div>"
      ],
      "text/plain": [
       "   Row ID        Order ID Order Date  Ship Date       Ship Mode Customer ID  \\\n",
       "0       1  CA-2013-152156 2014-11-09 2014-11-12    Second Class    CG-12520   \n",
       "1       2  CA-2013-152156 2014-11-09 2014-11-12    Second Class    CG-12520   \n",
       "2       3  CA-2013-138688 2014-06-13 2014-06-17    Second Class    DV-13045   \n",
       "3       4  US-2012-108966 2013-10-11 2013-10-18  Standard Class    SO-20335   \n",
       "4       5  US-2012-108966 2013-10-11 2013-10-18  Standard Class    SO-20335   \n",
       "\n",
       "     Customer Name    Segment        Country             City       State  \\\n",
       "0      Claire Gute   Consumer  United States        Henderson    Kentucky   \n",
       "1      Claire Gute   Consumer  United States        Henderson    Kentucky   \n",
       "2  Darrin Van Huff  Corporate  United States      Los Angeles  California   \n",
       "3   Sean O'Donnell   Consumer  United States  Fort Lauderdale     Florida   \n",
       "4   Sean O'Donnell   Consumer  United States  Fort Lauderdale     Florida   \n",
       "\n",
       "  Region       Product ID         Category Sub-Category     Sales  Quantity  \\\n",
       "0  South  FUR-BO-10001798        Furniture    Bookcases  261.9600         2   \n",
       "1  South  FUR-CH-10000454        Furniture       Chairs  731.9400         3   \n",
       "2   West  OFF-LA-10000240  Office Supplies       Labels   14.6200         2   \n",
       "3  South  FUR-TA-10000577        Furniture       Tables  957.5775         5   \n",
       "4  South  OFF-ST-10000760  Office Supplies      Storage   22.3680         2   \n",
       "\n",
       "   Discount    Profit  \n",
       "0      0.00   41.9136  \n",
       "1      0.00  219.5820  \n",
       "2      0.00    6.8714  \n",
       "3      0.45 -383.0310  \n",
       "4      0.20    2.5164  "
      ]
     },
     "execution_count": 31,
     "metadata": {},
     "output_type": "execute_result"
    }
   ],
   "source": [
    "data.head()\n"
   ]
  },
  {
   "cell_type": "code",
   "execution_count": 32,
   "metadata": {},
   "outputs": [],
   "source": [
    "data = data[['Sales','Quantity','Discount','Profit']]\n",
    "data.dropna(axis = 0 ,inplace=True)"
   ]
  },
  {
   "cell_type": "code",
   "execution_count": 33,
   "metadata": {},
   "outputs": [],
   "source": [
    "y = data['Profit']\n",
    "x = data.drop('Profit' ,axis = 1)"
   ]
  },
  {
   "cell_type": "code",
   "execution_count": 34,
   "metadata": {},
   "outputs": [],
   "source": [
    "from sklearn.model_selection import train_test_split"
   ]
  },
  {
   "cell_type": "code",
   "execution_count": 37,
   "metadata": {},
   "outputs": [],
   "source": [
    "x_train, x_test, y_train, y_test =train_test_split(x,y , random_state=0) "
   ]
  },
  {
   "cell_type": "code",
   "execution_count": 38,
   "metadata": {},
   "outputs": [
    {
     "data": {
      "text/html": [
       "<div>\n",
       "<style scoped>\n",
       "    .dataframe tbody tr th:only-of-type {\n",
       "        vertical-align: middle;\n",
       "    }\n",
       "\n",
       "    .dataframe tbody tr th {\n",
       "        vertical-align: top;\n",
       "    }\n",
       "\n",
       "    .dataframe thead th {\n",
       "        text-align: right;\n",
       "    }\n",
       "</style>\n",
       "<table border=\"1\" class=\"dataframe\">\n",
       "  <thead>\n",
       "    <tr style=\"text-align: right;\">\n",
       "      <th></th>\n",
       "      <th>Sales</th>\n",
       "      <th>Quantity</th>\n",
       "      <th>Discount</th>\n",
       "    </tr>\n",
       "  </thead>\n",
       "  <tbody>\n",
       "    <tr>\n",
       "      <th>700</th>\n",
       "      <td>4.896</td>\n",
       "      <td>3</td>\n",
       "      <td>0.7</td>\n",
       "    </tr>\n",
       "    <tr>\n",
       "      <th>8785</th>\n",
       "      <td>195.960</td>\n",
       "      <td>5</td>\n",
       "      <td>0.2</td>\n",
       "    </tr>\n",
       "    <tr>\n",
       "      <th>1621</th>\n",
       "      <td>786.480</td>\n",
       "      <td>8</td>\n",
       "      <td>0.0</td>\n",
       "    </tr>\n",
       "    <tr>\n",
       "      <th>800</th>\n",
       "      <td>22.230</td>\n",
       "      <td>1</td>\n",
       "      <td>0.0</td>\n",
       "    </tr>\n",
       "    <tr>\n",
       "      <th>7559</th>\n",
       "      <td>167.940</td>\n",
       "      <td>3</td>\n",
       "      <td>0.0</td>\n",
       "    </tr>\n",
       "    <tr>\n",
       "      <th>...</th>\n",
       "      <td>...</td>\n",
       "      <td>...</td>\n",
       "      <td>...</td>\n",
       "    </tr>\n",
       "    <tr>\n",
       "      <th>9225</th>\n",
       "      <td>4.144</td>\n",
       "      <td>4</td>\n",
       "      <td>0.8</td>\n",
       "    </tr>\n",
       "    <tr>\n",
       "      <th>4859</th>\n",
       "      <td>10.192</td>\n",
       "      <td>7</td>\n",
       "      <td>0.2</td>\n",
       "    </tr>\n",
       "    <tr>\n",
       "      <th>3264</th>\n",
       "      <td>10.080</td>\n",
       "      <td>4</td>\n",
       "      <td>0.2</td>\n",
       "    </tr>\n",
       "    <tr>\n",
       "      <th>9845</th>\n",
       "      <td>132.696</td>\n",
       "      <td>3</td>\n",
       "      <td>0.2</td>\n",
       "    </tr>\n",
       "    <tr>\n",
       "      <th>2732</th>\n",
       "      <td>73.980</td>\n",
       "      <td>2</td>\n",
       "      <td>0.0</td>\n",
       "    </tr>\n",
       "  </tbody>\n",
       "</table>\n",
       "<p>7495 rows × 3 columns</p>\n",
       "</div>"
      ],
      "text/plain": [
       "        Sales  Quantity  Discount\n",
       "700     4.896         3       0.7\n",
       "8785  195.960         5       0.2\n",
       "1621  786.480         8       0.0\n",
       "800    22.230         1       0.0\n",
       "7559  167.940         3       0.0\n",
       "...       ...       ...       ...\n",
       "9225    4.144         4       0.8\n",
       "4859   10.192         7       0.2\n",
       "3264   10.080         4       0.2\n",
       "9845  132.696         3       0.2\n",
       "2732   73.980         2       0.0\n",
       "\n",
       "[7495 rows x 3 columns]"
      ]
     },
     "execution_count": 38,
     "metadata": {},
     "output_type": "execute_result"
    }
   ],
   "source": [
    "x_train"
   ]
  },
  {
   "cell_type": "code",
   "execution_count": 39,
   "metadata": {},
   "outputs": [
    {
     "data": {
      "text/html": [
       "<div>\n",
       "<style scoped>\n",
       "    .dataframe tbody tr th:only-of-type {\n",
       "        vertical-align: middle;\n",
       "    }\n",
       "\n",
       "    .dataframe tbody tr th {\n",
       "        vertical-align: top;\n",
       "    }\n",
       "\n",
       "    .dataframe thead th {\n",
       "        text-align: right;\n",
       "    }\n",
       "</style>\n",
       "<table border=\"1\" class=\"dataframe\">\n",
       "  <thead>\n",
       "    <tr style=\"text-align: right;\">\n",
       "      <th></th>\n",
       "      <th>Sales</th>\n",
       "      <th>Quantity</th>\n",
       "      <th>Discount</th>\n",
       "    </tr>\n",
       "  </thead>\n",
       "  <tbody>\n",
       "    <tr>\n",
       "      <th>7933</th>\n",
       "      <td>23.360</td>\n",
       "      <td>2</td>\n",
       "      <td>0.0</td>\n",
       "    </tr>\n",
       "    <tr>\n",
       "      <th>8657</th>\n",
       "      <td>22.660</td>\n",
       "      <td>2</td>\n",
       "      <td>0.0</td>\n",
       "    </tr>\n",
       "    <tr>\n",
       "      <th>9599</th>\n",
       "      <td>35.208</td>\n",
       "      <td>1</td>\n",
       "      <td>0.2</td>\n",
       "    </tr>\n",
       "    <tr>\n",
       "      <th>799</th>\n",
       "      <td>283.920</td>\n",
       "      <td>5</td>\n",
       "      <td>0.2</td>\n",
       "    </tr>\n",
       "    <tr>\n",
       "      <th>3813</th>\n",
       "      <td>19.824</td>\n",
       "      <td>6</td>\n",
       "      <td>0.2</td>\n",
       "    </tr>\n",
       "    <tr>\n",
       "      <th>...</th>\n",
       "      <td>...</td>\n",
       "      <td>...</td>\n",
       "      <td>...</td>\n",
       "    </tr>\n",
       "    <tr>\n",
       "      <th>3086</th>\n",
       "      <td>3.984</td>\n",
       "      <td>2</td>\n",
       "      <td>0.6</td>\n",
       "    </tr>\n",
       "    <tr>\n",
       "      <th>2041</th>\n",
       "      <td>75.360</td>\n",
       "      <td>5</td>\n",
       "      <td>0.2</td>\n",
       "    </tr>\n",
       "    <tr>\n",
       "      <th>1108</th>\n",
       "      <td>58.368</td>\n",
       "      <td>12</td>\n",
       "      <td>0.2</td>\n",
       "    </tr>\n",
       "    <tr>\n",
       "      <th>5687</th>\n",
       "      <td>129.888</td>\n",
       "      <td>6</td>\n",
       "      <td>0.2</td>\n",
       "    </tr>\n",
       "    <tr>\n",
       "      <th>8818</th>\n",
       "      <td>38.880</td>\n",
       "      <td>6</td>\n",
       "      <td>0.0</td>\n",
       "    </tr>\n",
       "  </tbody>\n",
       "</table>\n",
       "<p>2499 rows × 3 columns</p>\n",
       "</div>"
      ],
      "text/plain": [
       "        Sales  Quantity  Discount\n",
       "7933   23.360         2       0.0\n",
       "8657   22.660         2       0.0\n",
       "9599   35.208         1       0.2\n",
       "799   283.920         5       0.2\n",
       "3813   19.824         6       0.2\n",
       "...       ...       ...       ...\n",
       "3086    3.984         2       0.6\n",
       "2041   75.360         5       0.2\n",
       "1108   58.368        12       0.2\n",
       "5687  129.888         6       0.2\n",
       "8818   38.880         6       0.0\n",
       "\n",
       "[2499 rows x 3 columns]"
      ]
     },
     "execution_count": 39,
     "metadata": {},
     "output_type": "execute_result"
    }
   ],
   "source": [
    "x_test"
   ]
  },
  {
   "cell_type": "code",
   "execution_count": 41,
   "metadata": {
    "scrolled": true
   },
   "outputs": [
    {
     "ename": "NameError",
     "evalue": "name 'model' is not defined",
     "output_type": "error",
     "traceback": [
      "\u001b[0;31m---------------------------------------------------------------------------\u001b[0m",
      "\u001b[0;31mNameError\u001b[0m                                 Traceback (most recent call last)",
      "\u001b[0;32m<ipython-input-41-4719cf73997a>\u001b[0m in \u001b[0;36m<module>\u001b[0;34m\u001b[0m\n\u001b[0;32m----> 1\u001b[0;31m \u001b[0mmodel\u001b[0m\u001b[0;34m.\u001b[0m\u001b[0mfit\u001b[0m\u001b[0;34m(\u001b[0m\u001b[0mx_train\u001b[0m\u001b[0;34m,\u001b[0m\u001b[0my_train\u001b[0m\u001b[0;34m)\u001b[0m\u001b[0;34m\u001b[0m\u001b[0;34m\u001b[0m\u001b[0m\n\u001b[0m",
      "\u001b[0;31mNameError\u001b[0m: name 'model' is not defined"
     ]
    }
   ],
   "source": [
    "model.fit(x_train,y_train)\n"
   ]
  },
  {
   "cell_type": "code",
   "execution_count": 42,
   "metadata": {
    "scrolled": false
   },
   "outputs": [
    {
     "ename": "NameError",
     "evalue": "name 'model' is not defined",
     "output_type": "error",
     "traceback": [
      "\u001b[0;31m---------------------------------------------------------------------------\u001b[0m",
      "\u001b[0;31mNameError\u001b[0m                                 Traceback (most recent call last)",
      "\u001b[0;32m<ipython-input-42-900e537fef79>\u001b[0m in \u001b[0;36m<module>\u001b[0;34m\u001b[0m\n\u001b[0;32m----> 1\u001b[0;31m \u001b[0mmodel\u001b[0m\u001b[0;34m.\u001b[0m\u001b[0mpredict\u001b[0m\u001b[0;34m(\u001b[0m\u001b[0my_test\u001b[0m\u001b[0;34m)\u001b[0m\u001b[0;34m\u001b[0m\u001b[0;34m\u001b[0m\u001b[0m\n\u001b[0m",
      "\u001b[0;31mNameError\u001b[0m: name 'model' is not defined"
     ]
    }
   ],
   "source": [
    "model.predict(y_test)\n"
   ]
  },
  {
   "cell_type": "code",
   "execution_count": 43,
   "metadata": {},
   "outputs": [
    {
     "ename": "NameError",
     "evalue": "name 'model' is not defined",
     "output_type": "error",
     "traceback": [
      "\u001b[0;31m---------------------------------------------------------------------------\u001b[0m",
      "\u001b[0;31mNameError\u001b[0m                                 Traceback (most recent call last)",
      "\u001b[0;32m<ipython-input-43-6fd6c753a6d9>\u001b[0m in \u001b[0;36m<module>\u001b[0;34m\u001b[0m\n\u001b[0;32m----> 1\u001b[0;31m \u001b[0mmodel\u001b[0m\u001b[0;34m.\u001b[0m\u001b[0mscore\u001b[0m\u001b[0;34m(\u001b[0m\u001b[0my_test\u001b[0m\u001b[0;34m)\u001b[0m\u001b[0;34m\u001b[0m\u001b[0;34m\u001b[0m\u001b[0m\n\u001b[0m",
      "\u001b[0;31mNameError\u001b[0m: name 'model' is not defined"
     ]
    }
   ],
   "source": [
    "model.score(y_test)"
   ]
  },
  {
   "cell_type": "code",
   "execution_count": null,
   "metadata": {},
   "outputs": [],
   "source": []
  },
  {
   "cell_type": "code",
   "execution_count": null,
   "metadata": {},
   "outputs": [],
   "source": []
  },
  {
   "cell_type": "code",
   "execution_count": null,
   "metadata": {},
   "outputs": [],
   "source": []
  },
  {
   "cell_type": "code",
   "execution_count": null,
   "metadata": {},
   "outputs": [],
   "source": []
  },
  {
   "cell_type": "code",
   "execution_count": 81,
   "metadata": {},
   "outputs": [],
   "source": [
    "from sklearn.compose import make_column_selector"
   ]
  },
  {
   "cell_type": "code",
   "execution_count": 82,
   "metadata": {},
   "outputs": [],
   "source": [
    "from sklearn.impute import SimpleImputer\n",
    "from sklearn.preprocessing import LabelEncoder\n",
    "from sklearn.preprocessing import OneHotEncoder"
   ]
  },
  {
   "cell_type": "code",
   "execution_count": 87,
   "metadata": {},
   "outputs": [
    {
     "ename": "ValueError",
     "evalue": "Expected 2D array, got scalar array instead:\narray=OneHotEncoder(categories='auto', drop=None, dtype=<class 'numpy.float64'>,\n              handle_unknown='error', sparse=True).\nReshape your data either using array.reshape(-1, 1) if your data has a single feature or array.reshape(1, -1) if it contains a single sample.",
     "output_type": "error",
     "traceback": [
      "\u001b[0;31m---------------------------------------------------------------------------\u001b[0m",
      "\u001b[0;31mValueError\u001b[0m                                Traceback (most recent call last)",
      "\u001b[0;32m<ipython-input-87-8069e4efa000>\u001b[0m in \u001b[0;36m<module>\u001b[0;34m\u001b[0m\n\u001b[1;32m      1\u001b[0m \u001b[0mencode\u001b[0m  \u001b[0;34m=\u001b[0m \u001b[0mOneHotEncoder\u001b[0m\u001b[0;34m(\u001b[0m\u001b[0;34m)\u001b[0m\u001b[0;34m\u001b[0m\u001b[0;34m\u001b[0m\u001b[0m\n\u001b[0;32m----> 2\u001b[0;31m \u001b[0mencode\u001b[0m\u001b[0;34m.\u001b[0m\u001b[0mfit_transform\u001b[0m\u001b[0;34m(\u001b[0m\u001b[0mX_train\u001b[0m\u001b[0;34m)\u001b[0m\u001b[0;34m\u001b[0m\u001b[0;34m\u001b[0m\u001b[0m\n\u001b[0m",
      "\u001b[0;32m~/.conda/envs/tensorflow/lib/python3.7/site-packages/sklearn/preprocessing/_encoders.py\u001b[0m in \u001b[0;36mfit_transform\u001b[0;34m(self, X, y)\u001b[0m\n\u001b[1;32m    370\u001b[0m         \"\"\"\n\u001b[1;32m    371\u001b[0m         \u001b[0mself\u001b[0m\u001b[0;34m.\u001b[0m\u001b[0m_validate_keywords\u001b[0m\u001b[0;34m(\u001b[0m\u001b[0;34m)\u001b[0m\u001b[0;34m\u001b[0m\u001b[0;34m\u001b[0m\u001b[0m\n\u001b[0;32m--> 372\u001b[0;31m         \u001b[0;32mreturn\u001b[0m \u001b[0msuper\u001b[0m\u001b[0;34m(\u001b[0m\u001b[0;34m)\u001b[0m\u001b[0;34m.\u001b[0m\u001b[0mfit_transform\u001b[0m\u001b[0;34m(\u001b[0m\u001b[0mX\u001b[0m\u001b[0;34m,\u001b[0m \u001b[0my\u001b[0m\u001b[0;34m)\u001b[0m\u001b[0;34m\u001b[0m\u001b[0;34m\u001b[0m\u001b[0m\n\u001b[0m\u001b[1;32m    373\u001b[0m \u001b[0;34m\u001b[0m\u001b[0m\n\u001b[1;32m    374\u001b[0m     \u001b[0;32mdef\u001b[0m \u001b[0mtransform\u001b[0m\u001b[0;34m(\u001b[0m\u001b[0mself\u001b[0m\u001b[0;34m,\u001b[0m \u001b[0mX\u001b[0m\u001b[0;34m)\u001b[0m\u001b[0;34m:\u001b[0m\u001b[0;34m\u001b[0m\u001b[0;34m\u001b[0m\u001b[0m\n",
      "\u001b[0;32m~/.conda/envs/tensorflow/lib/python3.7/site-packages/sklearn/base.py\u001b[0m in \u001b[0;36mfit_transform\u001b[0;34m(self, X, y, **fit_params)\u001b[0m\n\u001b[1;32m    569\u001b[0m         \u001b[0;32mif\u001b[0m \u001b[0my\u001b[0m \u001b[0;32mis\u001b[0m \u001b[0;32mNone\u001b[0m\u001b[0;34m:\u001b[0m\u001b[0;34m\u001b[0m\u001b[0;34m\u001b[0m\u001b[0m\n\u001b[1;32m    570\u001b[0m             \u001b[0;31m# fit method of arity 1 (unsupervised transformation)\u001b[0m\u001b[0;34m\u001b[0m\u001b[0;34m\u001b[0m\u001b[0;34m\u001b[0m\u001b[0m\n\u001b[0;32m--> 571\u001b[0;31m             \u001b[0;32mreturn\u001b[0m \u001b[0mself\u001b[0m\u001b[0;34m.\u001b[0m\u001b[0mfit\u001b[0m\u001b[0;34m(\u001b[0m\u001b[0mX\u001b[0m\u001b[0;34m,\u001b[0m \u001b[0;34m**\u001b[0m\u001b[0mfit_params\u001b[0m\u001b[0;34m)\u001b[0m\u001b[0;34m.\u001b[0m\u001b[0mtransform\u001b[0m\u001b[0;34m(\u001b[0m\u001b[0mX\u001b[0m\u001b[0;34m)\u001b[0m\u001b[0;34m\u001b[0m\u001b[0;34m\u001b[0m\u001b[0m\n\u001b[0m\u001b[1;32m    572\u001b[0m         \u001b[0;32melse\u001b[0m\u001b[0;34m:\u001b[0m\u001b[0;34m\u001b[0m\u001b[0;34m\u001b[0m\u001b[0m\n\u001b[1;32m    573\u001b[0m             \u001b[0;31m# fit method of arity 2 (supervised transformation)\u001b[0m\u001b[0;34m\u001b[0m\u001b[0;34m\u001b[0m\u001b[0;34m\u001b[0m\u001b[0m\n",
      "\u001b[0;32m~/.conda/envs/tensorflow/lib/python3.7/site-packages/sklearn/preprocessing/_encoders.py\u001b[0m in \u001b[0;36mfit\u001b[0;34m(self, X, y)\u001b[0m\n\u001b[1;32m    345\u001b[0m         \"\"\"\n\u001b[1;32m    346\u001b[0m         \u001b[0mself\u001b[0m\u001b[0;34m.\u001b[0m\u001b[0m_validate_keywords\u001b[0m\u001b[0;34m(\u001b[0m\u001b[0;34m)\u001b[0m\u001b[0;34m\u001b[0m\u001b[0;34m\u001b[0m\u001b[0m\n\u001b[0;32m--> 347\u001b[0;31m         \u001b[0mself\u001b[0m\u001b[0;34m.\u001b[0m\u001b[0m_fit\u001b[0m\u001b[0;34m(\u001b[0m\u001b[0mX\u001b[0m\u001b[0;34m,\u001b[0m \u001b[0mhandle_unknown\u001b[0m\u001b[0;34m=\u001b[0m\u001b[0mself\u001b[0m\u001b[0;34m.\u001b[0m\u001b[0mhandle_unknown\u001b[0m\u001b[0;34m)\u001b[0m\u001b[0;34m\u001b[0m\u001b[0;34m\u001b[0m\u001b[0m\n\u001b[0m\u001b[1;32m    348\u001b[0m         \u001b[0mself\u001b[0m\u001b[0;34m.\u001b[0m\u001b[0mdrop_idx_\u001b[0m \u001b[0;34m=\u001b[0m \u001b[0mself\u001b[0m\u001b[0;34m.\u001b[0m\u001b[0m_compute_drop_idx\u001b[0m\u001b[0;34m(\u001b[0m\u001b[0;34m)\u001b[0m\u001b[0;34m\u001b[0m\u001b[0;34m\u001b[0m\u001b[0m\n\u001b[1;32m    349\u001b[0m         \u001b[0;32mreturn\u001b[0m \u001b[0mself\u001b[0m\u001b[0;34m\u001b[0m\u001b[0;34m\u001b[0m\u001b[0m\n",
      "\u001b[0;32m~/.conda/envs/tensorflow/lib/python3.7/site-packages/sklearn/preprocessing/_encoders.py\u001b[0m in \u001b[0;36m_fit\u001b[0;34m(self, X, handle_unknown)\u001b[0m\n\u001b[1;32m     72\u001b[0m \u001b[0;34m\u001b[0m\u001b[0m\n\u001b[1;32m     73\u001b[0m     \u001b[0;32mdef\u001b[0m \u001b[0m_fit\u001b[0m\u001b[0;34m(\u001b[0m\u001b[0mself\u001b[0m\u001b[0;34m,\u001b[0m \u001b[0mX\u001b[0m\u001b[0;34m,\u001b[0m \u001b[0mhandle_unknown\u001b[0m\u001b[0;34m=\u001b[0m\u001b[0;34m'error'\u001b[0m\u001b[0;34m)\u001b[0m\u001b[0;34m:\u001b[0m\u001b[0;34m\u001b[0m\u001b[0;34m\u001b[0m\u001b[0m\n\u001b[0;32m---> 74\u001b[0;31m         \u001b[0mX_list\u001b[0m\u001b[0;34m,\u001b[0m \u001b[0mn_samples\u001b[0m\u001b[0;34m,\u001b[0m \u001b[0mn_features\u001b[0m \u001b[0;34m=\u001b[0m \u001b[0mself\u001b[0m\u001b[0;34m.\u001b[0m\u001b[0m_check_X\u001b[0m\u001b[0;34m(\u001b[0m\u001b[0mX\u001b[0m\u001b[0;34m)\u001b[0m\u001b[0;34m\u001b[0m\u001b[0;34m\u001b[0m\u001b[0m\n\u001b[0m\u001b[1;32m     75\u001b[0m \u001b[0;34m\u001b[0m\u001b[0m\n\u001b[1;32m     76\u001b[0m         \u001b[0;32mif\u001b[0m \u001b[0mself\u001b[0m\u001b[0;34m.\u001b[0m\u001b[0mcategories\u001b[0m \u001b[0;34m!=\u001b[0m \u001b[0;34m'auto'\u001b[0m\u001b[0;34m:\u001b[0m\u001b[0;34m\u001b[0m\u001b[0;34m\u001b[0m\u001b[0m\n",
      "\u001b[0;32m~/.conda/envs/tensorflow/lib/python3.7/site-packages/sklearn/preprocessing/_encoders.py\u001b[0m in \u001b[0;36m_check_X\u001b[0;34m(self, X)\u001b[0m\n\u001b[1;32m     41\u001b[0m         \u001b[0;32mif\u001b[0m \u001b[0;32mnot\u001b[0m \u001b[0;34m(\u001b[0m\u001b[0mhasattr\u001b[0m\u001b[0;34m(\u001b[0m\u001b[0mX\u001b[0m\u001b[0;34m,\u001b[0m \u001b[0;34m'iloc'\u001b[0m\u001b[0;34m)\u001b[0m \u001b[0;32mand\u001b[0m \u001b[0mgetattr\u001b[0m\u001b[0;34m(\u001b[0m\u001b[0mX\u001b[0m\u001b[0;34m,\u001b[0m \u001b[0;34m'ndim'\u001b[0m\u001b[0;34m,\u001b[0m \u001b[0;36m0\u001b[0m\u001b[0;34m)\u001b[0m \u001b[0;34m==\u001b[0m \u001b[0;36m2\u001b[0m\u001b[0;34m)\u001b[0m\u001b[0;34m:\u001b[0m\u001b[0;34m\u001b[0m\u001b[0;34m\u001b[0m\u001b[0m\n\u001b[1;32m     42\u001b[0m             \u001b[0;31m# if not a dataframe, do normal check_array validation\u001b[0m\u001b[0;34m\u001b[0m\u001b[0;34m\u001b[0m\u001b[0;34m\u001b[0m\u001b[0m\n\u001b[0;32m---> 43\u001b[0;31m             \u001b[0mX_temp\u001b[0m \u001b[0;34m=\u001b[0m \u001b[0mcheck_array\u001b[0m\u001b[0;34m(\u001b[0m\u001b[0mX\u001b[0m\u001b[0;34m,\u001b[0m \u001b[0mdtype\u001b[0m\u001b[0;34m=\u001b[0m\u001b[0;32mNone\u001b[0m\u001b[0;34m)\u001b[0m\u001b[0;34m\u001b[0m\u001b[0;34m\u001b[0m\u001b[0m\n\u001b[0m\u001b[1;32m     44\u001b[0m             if (not hasattr(X, 'dtype')\n\u001b[1;32m     45\u001b[0m                     and np.issubdtype(X_temp.dtype, np.str_)):\n",
      "\u001b[0;32m~/.conda/envs/tensorflow/lib/python3.7/site-packages/sklearn/utils/validation.py\u001b[0m in \u001b[0;36mcheck_array\u001b[0;34m(array, accept_sparse, accept_large_sparse, dtype, order, copy, force_all_finite, ensure_2d, allow_nd, ensure_min_samples, ensure_min_features, warn_on_dtype, estimator)\u001b[0m\n\u001b[1;32m    547\u001b[0m                     \u001b[0;34m\"Reshape your data either using array.reshape(-1, 1) if \"\u001b[0m\u001b[0;34m\u001b[0m\u001b[0;34m\u001b[0m\u001b[0m\n\u001b[1;32m    548\u001b[0m                     \u001b[0;34m\"your data has a single feature or array.reshape(1, -1) \"\u001b[0m\u001b[0;34m\u001b[0m\u001b[0;34m\u001b[0m\u001b[0m\n\u001b[0;32m--> 549\u001b[0;31m                     \"if it contains a single sample.\".format(array))\n\u001b[0m\u001b[1;32m    550\u001b[0m             \u001b[0;31m# If input is 1D raise error\u001b[0m\u001b[0;34m\u001b[0m\u001b[0;34m\u001b[0m\u001b[0;34m\u001b[0m\u001b[0m\n\u001b[1;32m    551\u001b[0m             \u001b[0;32mif\u001b[0m \u001b[0marray\u001b[0m\u001b[0;34m.\u001b[0m\u001b[0mndim\u001b[0m \u001b[0;34m==\u001b[0m \u001b[0;36m1\u001b[0m\u001b[0;34m:\u001b[0m\u001b[0;34m\u001b[0m\u001b[0;34m\u001b[0m\u001b[0m\n",
      "\u001b[0;31mValueError\u001b[0m: Expected 2D array, got scalar array instead:\narray=OneHotEncoder(categories='auto', drop=None, dtype=<class 'numpy.float64'>,\n              handle_unknown='error', sparse=True).\nReshape your data either using array.reshape(-1, 1) if your data has a single feature or array.reshape(1, -1) if it contains a single sample."
     ]
    }
   ],
   "source": [
    "encode  = OneHotEncoder()\n",
    "encode.fit_transform(X_train)"
   ]
  },
  {
   "cell_type": "code",
   "execution_count": 83,
   "metadata": {},
   "outputs": [],
   "source": [
    "numerical_features = make_column_selector(dtype_include=np.number)\n",
    "categorical_feature = make_column_selector(dtype_exclude=np.number)"
   ]
  },
  {
   "cell_type": "code",
   "execution_count": 84,
   "metadata": {},
   "outputs": [],
   "source": [
    "numerical_pipeline = make_pipeline(SimpleImputer(),StandardScaler())\n",
    "categorical_pipeline = make_pipeline(SimpleImputer(strategy='most_frequent'),OneHotEncoder())\n"
   ]
  },
  {
   "cell_type": "code",
   "execution_count": 67,
   "metadata": {},
   "outputs": [],
   "source": [
    "preprocessor = make_column_transformer((numerical_pipeline ,numerical_features),(categorical_pipeline,categorical_feature))"
   ]
  },
  {
   "cell_type": "code",
   "execution_count": 85,
   "metadata": {},
   "outputs": [
    {
     "ename": "ValueError",
     "evalue": "Found unknown categories ['CA-2011-124023', 'CA-2013-154053', 'CA-2012-126347', 'CA-2013-105459', 'CA-2014-155740', 'US-2011-107405', 'CA-2011-154837', 'US-2014-132381', 'US-2011-129609', 'CA-2013-135594', 'CA-2012-100573', 'CA-2013-112893', 'CA-2013-147473', 'CA-2012-136700', 'CA-2014-158953', 'CA-2013-162901', 'CA-2014-130834', 'CA-2012-160213', 'CA-2012-113040', 'CA-2012-110947', 'CA-2014-161340', 'CA-2013-164924', 'CA-2013-122581', 'CA-2013-152646', 'CA-2011-104808', 'CA-2011-167724', 'CA-2011-104829', 'CA-2014-160983', 'CA-2014-156720', 'CA-2012-114048', 'CA-2012-142734', 'CA-2012-149636', 'CA-2014-169607', 'CA-2013-136483', 'CA-2012-121405', 'CA-2014-144750', 'CA-2012-119634', 'CA-2014-159107', 'CA-2014-162075', 'CA-2011-119151', 'CA-2012-107902', 'CA-2013-116344', 'CA-2013-122511', 'CA-2014-158736', 'CA-2013-111318', 'CA-2014-130309', 'CA-2013-114944', 'US-2013-102232', 'CA-2013-162348', 'CA-2014-157420', 'US-2014-136707', 'CA-2013-104689', 'CA-2012-131352', 'CA-2013-143154', 'CA-2014-136672', 'US-2013-160206', 'CA-2014-120061', 'CA-2014-121706', 'CA-2013-136406', 'CA-2014-148985', 'CA-2012-104241', 'US-2011-158638', 'CA-2014-161053', 'CA-2012-112823', 'CA-2014-106103', 'CA-2011-141278', 'CA-2011-125759', 'CA-2013-116974', 'CA-2013-118052', 'CA-2014-119564', 'CA-2014-164329', 'CA-2011-140487', 'CA-2012-133445', 'CA-2013-116603', 'CA-2014-140515', 'CA-2013-149454', 'US-2014-136189', 'CA-2013-150000', 'CA-2014-128769', 'CA-2012-127418', 'CA-2014-116855', 'CA-2012-145401', 'CA-2011-151554', 'CA-2012-123456', 'CA-2013-101469', 'CA-2014-112984', 'CA-2012-131779', 'CA-2012-157035', 'CA-2011-137274', 'US-2011-151925', 'US-2014-145863', 'CA-2012-127607', 'CA-2012-169537', 'CA-2014-154123', 'CA-2011-115973', 'CA-2013-127761', 'CA-2014-160934', 'CA-2013-163937', 'US-2011-166828', 'CA-2014-152079', 'CA-2013-123526', 'CA-2014-112333', 'CA-2014-155929', 'US-2014-114034', 'US-2013-164945', 'CA-2012-149650', 'CA-2012-132633', 'CA-2012-113523', 'CA-2012-141565', 'CA-2014-137456', 'CA-2014-101749', 'CA-2013-115224', 'US-2011-134614', 'CA-2013-115525', 'US-2014-156909', 'CA-2013-131639', 'US-2013-114293', 'CA-2014-103506', 'CA-2014-154809', 'US-2014-152492', 'CA-2011-108609', 'CA-2011-145926', 'CA-2014-116204', 'CA-2012-154620', 'CA-2012-103954', 'CA-2012-147879', 'CA-2013-162747', 'CA-2014-167101', 'CA-2011-152345', 'CA-2013-132899', 'CA-2012-105844', 'CA-2014-118668', 'US-2013-147340', 'CA-2013-163202', 'CA-2013-122448', 'CA-2014-135167', 'CA-2011-129574', 'CA-2012-104129', 'CA-2013-160479', 'US-2011-134971', 'CA-2011-100328', 'CA-2012-131534', 'CA-2012-113971', 'CA-2014-109778', 'CA-2012-125416', 'CA-2012-164497', 'CA-2011-155593', 'US-2013-117387', 'CA-2012-146829', 'CA-2012-162376', 'CA-2014-123239', 'CA-2014-143217', 'CA-2014-125990', 'CA-2012-141740', 'CA-2014-145443', 'CA-2012-103961', 'US-2013-100405', 'US-2014-123463', 'US-2012-156797', 'CA-2014-155362', 'US-2011-155894', 'US-2011-156559', 'CA-2013-120558', 'CA-2011-167486', 'CA-2013-130442', 'CA-2012-102036', 'CA-2012-158554', 'CA-2013-130638', 'US-2011-143581', 'CA-2013-111283', 'CA-2013-122322', 'US-2011-163797', 'US-2014-152366', 'CA-2014-100202', 'CA-2011-132542', 'US-2014-153255', 'CA-2014-107167', 'CA-2014-107832', 'CA-2013-113425', 'CA-2013-131737', 'CA-2013-110366', 'CA-2011-106229', 'CA-2014-143455', 'CA-2011-147235', 'CA-2013-158043', 'CA-2013-105900', 'CA-2014-126676', 'US-2014-154851', 'CA-2012-153325', 'CA-2012-145485', 'CA-2013-108105', 'US-2011-147648', 'CA-2014-147725', 'CA-2014-121741', 'CA-2013-149685', 'US-2014-166233', 'US-2013-101196', 'CA-2013-147368', 'CA-2012-158323', 'CA-2012-151722', 'US-2014-105697', 'CA-2012-116638', 'US-2014-146213', 'CA-2014-137505', 'CA-2012-143980', 'CA-2013-162110', 'CA-2013-128923', 'CA-2013-161669', 'CA-2014-149181', 'CA-2013-125206', 'CA-2012-156328', 'US-2014-158946', 'CA-2014-106033', 'CA-2013-125794', 'CA-2014-142867', 'CA-2012-133585', 'CA-2012-155040', 'CA-2012-101126', 'CA-2012-166219', 'CA-2013-100083', 'CA-2012-148628', 'CA-2013-151323', 'CA-2011-104780', 'CA-2014-155047', 'CA-2014-169929', 'CA-2012-118948', 'CA-2013-167416', 'CA-2014-118521', 'CA-2011-130575', 'US-2014-161193', 'CA-2012-151624', 'CA-2014-148012', 'US-2012-158911', 'CA-2013-117681', 'CA-2011-122070', 'CA-2011-108861', 'US-2014-115595', 'CA-2014-154466', 'CA-2014-147403', 'CA-2011-141355', 'US-2012-151407', 'CA-2014-154718', 'CA-2014-163671', 'CA-2011-169642', 'CA-2014-148474', 'US-2014-134481', 'CA-2011-136644', 'CA-2013-120530', 'CA-2013-158806', 'CA-2014-133865', 'CA-2014-129805', 'CA-2014-122945', 'CA-2011-156993', 'CA-2011-103373', 'CA-2011-106719', 'US-2011-118997', 'CA-2014-129581', 'CA-2013-118969', 'CA-2014-169264', 'CA-2012-147690', 'CA-2013-167115', 'CA-2013-147109', 'CA-2013-146913', 'CA-2013-113096', 'CA-2013-149965', 'CA-2013-101742', 'CA-2013-154067', 'CA-2012-129392', 'CA-2012-168004', 'CA-2014-146367', 'CA-2012-126970', 'CA-2011-100972', 'CA-2011-149020', 'CA-2013-166912', 'CA-2011-168823', 'CA-2013-108056', 'CA-2012-100769', 'CA-2014-101308', 'CA-2013-148908', 'CA-2012-117898', 'CA-2013-125017', 'CA-2013-113747', 'CA-2013-148593', 'CA-2014-156139', 'US-2011-131982', 'CA-2013-138933', 'CA-2014-148166', 'CA-2014-143126', 'CA-2013-157000', 'US-2012-165449', 'CA-2013-165148', 'US-2011-107699', 'US-2012-109015', 'CA-2012-162887', 'CA-2012-139094', 'CA-2013-136434', 'CA-2013-144337', 'CA-2014-164917', 'US-2014-139969', 'CA-2012-112522', 'CA-2011-146864', 'CA-2014-164112', 'CA-2013-136133', 'CA-2012-101910', 'CA-2012-121272', 'US-2014-103814', 'CA-2013-158834', 'CA-2014-125752', 'CA-2013-158575', 'CA-2012-163104', 'US-2013-120460', 'CA-2011-152268', 'CA-2013-134362', 'CA-2011-145800', 'CA-2013-121993', 'CA-2011-107811', 'US-2013-148957', 'CA-2014-155460', 'US-2011-156216', 'CA-2012-107020', 'CA-2012-157133', 'CA-2012-168634', 'CA-2013-140634', 'CA-2013-144148', 'CA-2013-140438', 'CA-2014-157350', 'CA-2012-167696', 'CA-2012-105634', 'CA-2012-111038', 'CA-2014-127803', 'CA-2012-109939', 'CA-2013-154403', 'US-2013-112396', 'US-2013-128902', 'CA-2011-108707', 'CA-2013-157686', 'CA-2014-122056', 'CA-2014-102946', 'CA-2012-165813', 'CA-2014-156272', 'CA-2011-168312', 'US-2014-150070', 'CA-2014-160122', 'CA-2014-105823', 'CA-2013-113292', 'CA-2011-165428', 'CA-2012-134782', 'CA-2012-111829', 'CA-2014-152968', 'CA-2012-104115', 'CA-2014-161655', 'CA-2011-147914', 'US-2011-111353', 'CA-2011-165974', 'CA-2014-122154', 'CA-2013-138037', 'CA-2011-155887', 'CA-2012-108672', 'CA-2014-132437', 'CA-2012-103835', 'CA-2014-137421', 'CA-2014-117821', 'CA-2013-132094', 'US-2014-148831', 'CA-2013-133123', 'CA-2012-130995', 'US-2011-120145', 'CA-2012-103072', 'CA-2011-140032', 'CA-2014-122308', 'CA-2013-149223', 'CA-2014-124674', 'CA-2012-145457', 'CA-2014-103009', 'CA-2012-112319', 'CA-2011-101427', 'CA-2013-102456', 'CA-2011-155852', 'CA-2013-159023', 'CA-2011-131051', 'CA-2011-127383', 'CA-2013-140977', 'US-2013-106600', 'CA-2011-132801', 'CA-2014-105193', 'CA-2013-155033', 'US-2014-129441', 'CA-2014-122112', 'US-2014-120649', 'CA-2013-132731', 'CA-2011-164469', 'CA-2014-160087', 'CA-2014-145779', 'CA-2013-152121', 'CA-2013-117282', 'US-2013-141264', 'CA-2014-137099', 'CA-2014-104003', 'CA-2013-105473', 'US-2013-163258', 'CA-2012-130876', 'CA-2011-113166', 'CA-2012-136224', 'CA-2014-152786', 'CA-2012-149384', 'CA-2013-127649', 'CA-2014-143434', 'CA-2012-138625', 'CA-2011-126333', 'CA-2011-129938', 'US-2014-133781', 'CA-2014-153339', 'CA-2013-118101', 'CA-2014-166695', 'CA-2014-168837', 'CA-2014-106782', 'CA-2011-152849', 'US-2013-157840', 'CA-2012-153752', 'US-2011-109162', 'CA-2011-120950', 'CA-2013-149349', 'CA-2011-145541', 'US-2014-143028', 'CA-2014-120327', 'CA-2012-104052', 'US-2014-120089', 'CA-2013-138079', 'US-2012-137533', 'CA-2014-104108', 'US-2013-159093', 'CA-2012-149566', 'CA-2014-166933', 'US-2012-110261', 'CA-2013-124793', 'CA-2012-139738', 'CA-2012-144722', 'CA-2014-124086', 'CA-2014-103611', 'US-2014-110149', 'CA-2012-129700', 'CA-2013-144855', 'CA-2014-160423', 'CA-2011-164749', 'CA-2012-111507', 'CA-2014-152660', 'CA-2013-117849', 'CA-2014-140053', 'CA-2013-161158', 'CA-2013-130225', 'CA-2011-139423', 'CA-2014-155705', 'CA-2014-102659', 'CA-2011-121629', 'CA-2014-105921', 'CA-2012-130253', 'CA-2014-160724', 'CA-2013-134208', 'CA-2012-156153', 'CA-2012-136147', 'CA-2014-160458', 'CA-2011-120887', 'CA-2013-152765', 'CA-2013-137204', 'CA-2014-151911', 'CA-2012-152681', 'CA-2013-117226', 'CA-2011-138296', 'CA-2014-141614', 'CA-2014-121468', 'US-2013-151827', 'CA-2012-122623', 'CA-2011-146815', 'US-2012-157154', 'CA-2011-152422', 'US-2012-113593', 'US-2014-166037', 'CA-2012-122259', 'CA-2011-158064', 'CA-2013-101343', 'CA-2014-145310', 'CA-2013-139885', 'CA-2013-132304', 'CA-2013-143910', 'CA-2012-149300', 'CA-2011-144071', 'CA-2014-128335', 'CA-2014-155376', 'CA-2014-134404', 'US-2013-114776', 'CA-2012-121097', 'CA-2012-124268', 'CA-2012-138674', 'CA-2011-123127', 'CA-2014-100636', 'CA-2012-143238', 'CA-2014-144568', 'CA-2012-142937', 'CA-2014-137365', 'CA-2014-129833', 'US-2013-162026', 'CA-2012-124975', 'CA-2014-165386', 'US-2013-152415', 'CA-2013-132661', 'CA-2013-146521', 'CA-2014-118360', 'CA-2013-144645', 'US-2011-157847', 'CA-2012-120516', 'CA-2011-141173', 'CA-2014-166499', 'CA-2014-146185', 'CA-2014-101574', 'CA-2012-158792', 'CA-2012-128027', 'CA-2013-145492', 'CA-2014-128734', 'US-2013-131674', 'CA-2014-143343', 'CA-2012-145324', 'CA-2012-154200', 'CA-2012-163923', 'CA-2014-102820', 'CA-2014-162250', 'CA-2013-101938', 'CA-2014-125745', 'CA-2012-168186', 'US-2013-144393', 'CA-2014-133501', 'CA-2014-151008', 'CA-2012-125178', 'CA-2013-114104', 'CA-2013-147683', 'CA-2014-166296', 'CA-2014-147753', 'CA-2013-110044', 'CA-2014-152093', 'US-2011-139500', 'CA-2013-109911', 'CA-2014-140508', 'CA-2012-168529', 'CA-2014-101273', 'US-2013-142685', 'CA-2012-164777', 'US-2014-109610', 'CA-2011-152905', 'US-2014-147655', 'CA-2011-163447', 'CA-2012-166583', 'US-2012-150161', 'CA-2011-100391', 'CA-2013-115574', 'CA-2013-106915', 'US-2014-135062', 'CA-2014-148446', 'CA-2012-110870', 'CA-2014-144694', 'CA-2013-120355', 'CA-2012-169796', 'CA-2014-151190', 'CA-2014-136882', 'CA-2012-153794', 'CA-2013-120180', 'CA-2014-167913', 'CA-2014-165029', 'US-2011-141257', 'CA-2012-143602', 'CA-2013-112585', 'CA-2012-168564', 'CA-2012-148873', 'CA-2012-121041', 'CA-2013-101189', 'US-2014-110604', 'CA-2013-111493', 'CA-2014-143861', 'CA-2011-131247', 'US-2014-168613', 'CA-2012-111234', 'CA-2014-102771', 'CA-2011-154627', 'CA-2013-139409', 'CA-2013-113803', 'CA-2014-146031', 'US-2014-105389', 'US-2012-167220', 'CA-2011-103800', 'CA-2014-160045', 'CA-2014-137470', 'CA-2014-116498', 'CA-2014-140536', 'CA-2012-156608', 'CA-2011-110072', 'CA-2013-163048', 'CA-2012-166338', 'CA-2014-153787', 'CA-2013-136924', 'US-2011-150924', 'CA-2013-148201', 'CA-2014-126634', 'CA-2014-128699', 'CA-2013-159765', 'CA-2014-127264', 'CA-2011-109890', 'CA-2013-154788', 'CA-2013-145303', 'CA-2012-115399', 'CA-2011-160157', 'CA-2013-158211', 'CA-2013-154508', 'CA-2013-168536', 'CA-2014-119452', 'CA-2013-126809', 'CA-2011-165477', 'CA-2014-145275', 'CA-2014-144365', 'CA-2013-139878', 'CA-2011-109134', 'CA-2012-138492', 'CA-2014-101728', 'CA-2012-140557', 'US-2011-115987', 'CA-2011-123477', 'CA-2013-140249', 'CA-2011-130624', 'CA-2014-104906', 'CA-2011-140816', 'CA-2011-137589', 'US-2013-158680', 'US-2011-109036', 'CA-2011-127299', 'CA-2013-149482', 'US-2012-125374', 'CA-2013-164896', 'CA-2011-112403', 'CA-2012-118423', 'CA-2011-113047', 'CA-2012-142041', 'CA-2012-129770', 'CA-2011-108147', 'CA-2011-124709', 'CA-2013-105277', 'US-2013-168095', 'CA-2013-137127', 'CA-2011-142979', 'CA-2012-137071', 'CA-2013-163636', 'CA-2013-126102', 'CA-2014-148992', 'CA-2011-121167', 'CA-2014-147144', 'CA-2011-151953', 'CA-2011-138737', 'US-2013-146066', 'CA-2013-147417', 'US-2012-114839', 'CA-2013-150077', 'US-2011-150532', 'CA-2014-127397', 'US-2013-167339', 'CA-2014-118346', 'US-2013-164196', 'CA-2011-100006', 'CA-2013-117660', 'CA-2013-136994', 'US-2014-118535', 'CA-2012-144519', 'CA-2011-119529', 'CA-2014-167080', 'CA-2014-119669', 'CA-2012-151680', 'CA-2014-100951', 'US-2011-150126', 'CA-2013-120803', 'CA-2013-145240', 'CA-2011-122679', 'CA-2013-140613', 'US-2013-134656', 'CA-2014-161088', 'CA-2013-158547', 'CA-2014-118122', 'CA-2011-140473', 'CA-2011-120411', 'CA-2012-132906', 'CA-2011-130421', 'CA-2014-159604', 'CA-2011-120243', 'CA-2014-152261', 'US-2014-118157', 'CA-2014-168102', 'CA-2013-147431', 'US-2014-122714', 'CA-2012-123505', 'CA-2013-120859', 'US-2013-152373', 'CA-2011-104976', 'US-2014-156083', 'CA-2012-125423', 'CA-2011-126963', 'CA-2013-107790', 'CA-2013-150343', 'US-2013-126893', 'CA-2013-105018', 'CA-2014-162712', 'CA-2013-126284', 'CA-2011-132983', 'CA-2014-136000', 'CA-2013-160136', 'CA-2011-101266', 'CA-2011-117317', 'US-2014-101721', 'CA-2014-141446', 'US-2012-142811', 'CA-2012-116841', 'CA-2013-126543', 'CA-2011-109218', 'CA-2013-119445', 'CA-2014-151211', 'US-2012-161347', 'CA-2011-121664', 'CA-2012-133536', 'US-2011-169789', 'CA-2011-110422', 'CA-2012-144253', 'CA-2013-110086', 'CA-2012-150441', 'CA-2013-129196', 'CA-2013-127250', 'CA-2014-151183', 'CA-2014-152961', 'US-2014-145597', 'US-2012-153283', 'CA-2013-123617', 'CA-2014-105130', 'CA-2013-151169', 'CA-2013-113656', 'CA-2014-108112', 'CA-2012-144652', 'US-2012-164966', 'US-2014-141943', 'CA-2013-111409', 'US-2014-120117', 'US-2012-101399', 'CA-2012-130554', 'CA-2014-127929', 'US-2011-126340', 'CA-2014-162880', 'CA-2011-141299'] in column 0 during transform",
     "output_type": "error",
     "traceback": [
      "\u001b[0;31m---------------------------------------------------------------------------\u001b[0m",
      "\u001b[0;31mValueError\u001b[0m                                Traceback (most recent call last)",
      "\u001b[0;32m<ipython-input-85-44897e1bfe32>\u001b[0m in \u001b[0;36m<module>\u001b[0;34m\u001b[0m\n\u001b[1;32m      1\u001b[0m \u001b[0mmodel\u001b[0m \u001b[0;34m=\u001b[0m \u001b[0mmake_pipeline\u001b[0m\u001b[0;34m(\u001b[0m\u001b[0mpreprocessor\u001b[0m \u001b[0;34m,\u001b[0m \u001b[0mLinearRegression\u001b[0m\u001b[0;34m(\u001b[0m\u001b[0;34m)\u001b[0m\u001b[0;34m)\u001b[0m\u001b[0;34m\u001b[0m\u001b[0;34m\u001b[0m\u001b[0m\n\u001b[1;32m      2\u001b[0m \u001b[0mmodel\u001b[0m\u001b[0;34m.\u001b[0m\u001b[0mfit\u001b[0m\u001b[0;34m(\u001b[0m\u001b[0mX_train\u001b[0m\u001b[0;34m,\u001b[0m\u001b[0my_train\u001b[0m\u001b[0;34m)\u001b[0m\u001b[0;34m\u001b[0m\u001b[0;34m\u001b[0m\u001b[0m\n\u001b[0;32m----> 3\u001b[0;31m \u001b[0mmodel\u001b[0m\u001b[0;34m.\u001b[0m\u001b[0mpredict\u001b[0m\u001b[0;34m(\u001b[0m\u001b[0mX_test\u001b[0m\u001b[0;34m)\u001b[0m\u001b[0;34m\u001b[0m\u001b[0;34m\u001b[0m\u001b[0m\n\u001b[0m",
      "\u001b[0;32m~/.conda/envs/tensorflow/lib/python3.7/site-packages/sklearn/utils/metaestimators.py\u001b[0m in \u001b[0;36m<lambda>\u001b[0;34m(*args, **kwargs)\u001b[0m\n\u001b[1;32m    114\u001b[0m \u001b[0;34m\u001b[0m\u001b[0m\n\u001b[1;32m    115\u001b[0m         \u001b[0;31m# lambda, but not partial, allows help() to work with update_wrapper\u001b[0m\u001b[0;34m\u001b[0m\u001b[0;34m\u001b[0m\u001b[0;34m\u001b[0m\u001b[0m\n\u001b[0;32m--> 116\u001b[0;31m         \u001b[0mout\u001b[0m \u001b[0;34m=\u001b[0m \u001b[0;32mlambda\u001b[0m \u001b[0;34m*\u001b[0m\u001b[0margs\u001b[0m\u001b[0;34m,\u001b[0m \u001b[0;34m**\u001b[0m\u001b[0mkwargs\u001b[0m\u001b[0;34m:\u001b[0m \u001b[0mself\u001b[0m\u001b[0;34m.\u001b[0m\u001b[0mfn\u001b[0m\u001b[0;34m(\u001b[0m\u001b[0mobj\u001b[0m\u001b[0;34m,\u001b[0m \u001b[0;34m*\u001b[0m\u001b[0margs\u001b[0m\u001b[0;34m,\u001b[0m \u001b[0;34m**\u001b[0m\u001b[0mkwargs\u001b[0m\u001b[0;34m)\u001b[0m\u001b[0;34m\u001b[0m\u001b[0;34m\u001b[0m\u001b[0m\n\u001b[0m\u001b[1;32m    117\u001b[0m         \u001b[0;31m# update the docstring of the returned function\u001b[0m\u001b[0;34m\u001b[0m\u001b[0;34m\u001b[0m\u001b[0;34m\u001b[0m\u001b[0m\n\u001b[1;32m    118\u001b[0m         \u001b[0mupdate_wrapper\u001b[0m\u001b[0;34m(\u001b[0m\u001b[0mout\u001b[0m\u001b[0;34m,\u001b[0m \u001b[0mself\u001b[0m\u001b[0;34m.\u001b[0m\u001b[0mfn\u001b[0m\u001b[0;34m)\u001b[0m\u001b[0;34m\u001b[0m\u001b[0;34m\u001b[0m\u001b[0m\n",
      "\u001b[0;32m~/.conda/envs/tensorflow/lib/python3.7/site-packages/sklearn/pipeline.py\u001b[0m in \u001b[0;36mpredict\u001b[0;34m(self, X, **predict_params)\u001b[0m\n\u001b[1;32m    417\u001b[0m         \u001b[0mXt\u001b[0m \u001b[0;34m=\u001b[0m \u001b[0mX\u001b[0m\u001b[0;34m\u001b[0m\u001b[0;34m\u001b[0m\u001b[0m\n\u001b[1;32m    418\u001b[0m         \u001b[0;32mfor\u001b[0m \u001b[0m_\u001b[0m\u001b[0;34m,\u001b[0m \u001b[0mname\u001b[0m\u001b[0;34m,\u001b[0m \u001b[0mtransform\u001b[0m \u001b[0;32min\u001b[0m \u001b[0mself\u001b[0m\u001b[0;34m.\u001b[0m\u001b[0m_iter\u001b[0m\u001b[0;34m(\u001b[0m\u001b[0mwith_final\u001b[0m\u001b[0;34m=\u001b[0m\u001b[0;32mFalse\u001b[0m\u001b[0;34m)\u001b[0m\u001b[0;34m:\u001b[0m\u001b[0;34m\u001b[0m\u001b[0;34m\u001b[0m\u001b[0m\n\u001b[0;32m--> 419\u001b[0;31m             \u001b[0mXt\u001b[0m \u001b[0;34m=\u001b[0m \u001b[0mtransform\u001b[0m\u001b[0;34m.\u001b[0m\u001b[0mtransform\u001b[0m\u001b[0;34m(\u001b[0m\u001b[0mXt\u001b[0m\u001b[0;34m)\u001b[0m\u001b[0;34m\u001b[0m\u001b[0;34m\u001b[0m\u001b[0m\n\u001b[0m\u001b[1;32m    420\u001b[0m         \u001b[0;32mreturn\u001b[0m \u001b[0mself\u001b[0m\u001b[0;34m.\u001b[0m\u001b[0msteps\u001b[0m\u001b[0;34m[\u001b[0m\u001b[0;34m-\u001b[0m\u001b[0;36m1\u001b[0m\u001b[0;34m]\u001b[0m\u001b[0;34m[\u001b[0m\u001b[0;34m-\u001b[0m\u001b[0;36m1\u001b[0m\u001b[0;34m]\u001b[0m\u001b[0;34m.\u001b[0m\u001b[0mpredict\u001b[0m\u001b[0;34m(\u001b[0m\u001b[0mXt\u001b[0m\u001b[0;34m,\u001b[0m \u001b[0;34m**\u001b[0m\u001b[0mpredict_params\u001b[0m\u001b[0;34m)\u001b[0m\u001b[0;34m\u001b[0m\u001b[0;34m\u001b[0m\u001b[0m\n\u001b[1;32m    421\u001b[0m \u001b[0;34m\u001b[0m\u001b[0m\n",
      "\u001b[0;32m~/.conda/envs/tensorflow/lib/python3.7/site-packages/sklearn/compose/_column_transformer.py\u001b[0m in \u001b[0;36mtransform\u001b[0;34m(self, X)\u001b[0m\n\u001b[1;32m    586\u001b[0m \u001b[0;34m\u001b[0m\u001b[0m\n\u001b[1;32m    587\u001b[0m         \u001b[0mself\u001b[0m\u001b[0;34m.\u001b[0m\u001b[0m_validate_features\u001b[0m\u001b[0;34m(\u001b[0m\u001b[0mX\u001b[0m\u001b[0;34m.\u001b[0m\u001b[0mshape\u001b[0m\u001b[0;34m[\u001b[0m\u001b[0;36m1\u001b[0m\u001b[0;34m]\u001b[0m\u001b[0;34m,\u001b[0m \u001b[0mX_feature_names\u001b[0m\u001b[0;34m)\u001b[0m\u001b[0;34m\u001b[0m\u001b[0;34m\u001b[0m\u001b[0m\n\u001b[0;32m--> 588\u001b[0;31m         \u001b[0mXs\u001b[0m \u001b[0;34m=\u001b[0m \u001b[0mself\u001b[0m\u001b[0;34m.\u001b[0m\u001b[0m_fit_transform\u001b[0m\u001b[0;34m(\u001b[0m\u001b[0mX\u001b[0m\u001b[0;34m,\u001b[0m \u001b[0;32mNone\u001b[0m\u001b[0;34m,\u001b[0m \u001b[0m_transform_one\u001b[0m\u001b[0;34m,\u001b[0m \u001b[0mfitted\u001b[0m\u001b[0;34m=\u001b[0m\u001b[0;32mTrue\u001b[0m\u001b[0;34m)\u001b[0m\u001b[0;34m\u001b[0m\u001b[0;34m\u001b[0m\u001b[0m\n\u001b[0m\u001b[1;32m    589\u001b[0m         \u001b[0mself\u001b[0m\u001b[0;34m.\u001b[0m\u001b[0m_validate_output\u001b[0m\u001b[0;34m(\u001b[0m\u001b[0mXs\u001b[0m\u001b[0;34m)\u001b[0m\u001b[0;34m\u001b[0m\u001b[0;34m\u001b[0m\u001b[0m\n\u001b[1;32m    590\u001b[0m \u001b[0;34m\u001b[0m\u001b[0m\n",
      "\u001b[0;32m~/.conda/envs/tensorflow/lib/python3.7/site-packages/sklearn/compose/_column_transformer.py\u001b[0m in \u001b[0;36m_fit_transform\u001b[0;34m(self, X, y, func, fitted)\u001b[0m\n\u001b[1;32m    455\u001b[0m                     message=self._log_message(name, idx, len(transformers)))\n\u001b[1;32m    456\u001b[0m                 for idx, (name, trans, column, weight) in enumerate(\n\u001b[0;32m--> 457\u001b[0;31m                         self._iter(fitted=fitted, replace_strings=True), 1))\n\u001b[0m\u001b[1;32m    458\u001b[0m         \u001b[0;32mexcept\u001b[0m \u001b[0mValueError\u001b[0m \u001b[0;32mas\u001b[0m \u001b[0me\u001b[0m\u001b[0;34m:\u001b[0m\u001b[0;34m\u001b[0m\u001b[0;34m\u001b[0m\u001b[0m\n\u001b[1;32m    459\u001b[0m             \u001b[0;32mif\u001b[0m \u001b[0;34m\"Expected 2D array, got 1D array instead\"\u001b[0m \u001b[0;32min\u001b[0m \u001b[0mstr\u001b[0m\u001b[0;34m(\u001b[0m\u001b[0me\u001b[0m\u001b[0;34m)\u001b[0m\u001b[0;34m:\u001b[0m\u001b[0;34m\u001b[0m\u001b[0;34m\u001b[0m\u001b[0m\n",
      "\u001b[0;32m~/.conda/envs/tensorflow/lib/python3.7/site-packages/joblib/parallel.py\u001b[0m in \u001b[0;36m__call__\u001b[0;34m(self, iterable)\u001b[0m\n\u001b[1;32m   1005\u001b[0m                 \u001b[0mself\u001b[0m\u001b[0;34m.\u001b[0m\u001b[0m_iterating\u001b[0m \u001b[0;34m=\u001b[0m \u001b[0mself\u001b[0m\u001b[0;34m.\u001b[0m\u001b[0m_original_iterator\u001b[0m \u001b[0;32mis\u001b[0m \u001b[0;32mnot\u001b[0m \u001b[0;32mNone\u001b[0m\u001b[0;34m\u001b[0m\u001b[0;34m\u001b[0m\u001b[0m\n\u001b[1;32m   1006\u001b[0m \u001b[0;34m\u001b[0m\u001b[0m\n\u001b[0;32m-> 1007\u001b[0;31m             \u001b[0;32mwhile\u001b[0m \u001b[0mself\u001b[0m\u001b[0;34m.\u001b[0m\u001b[0mdispatch_one_batch\u001b[0m\u001b[0;34m(\u001b[0m\u001b[0miterator\u001b[0m\u001b[0;34m)\u001b[0m\u001b[0;34m:\u001b[0m\u001b[0;34m\u001b[0m\u001b[0;34m\u001b[0m\u001b[0m\n\u001b[0m\u001b[1;32m   1008\u001b[0m                 \u001b[0;32mpass\u001b[0m\u001b[0;34m\u001b[0m\u001b[0;34m\u001b[0m\u001b[0m\n\u001b[1;32m   1009\u001b[0m \u001b[0;34m\u001b[0m\u001b[0m\n",
      "\u001b[0;32m~/.conda/envs/tensorflow/lib/python3.7/site-packages/joblib/parallel.py\u001b[0m in \u001b[0;36mdispatch_one_batch\u001b[0;34m(self, iterator)\u001b[0m\n\u001b[1;32m    833\u001b[0m                 \u001b[0;32mreturn\u001b[0m \u001b[0;32mFalse\u001b[0m\u001b[0;34m\u001b[0m\u001b[0;34m\u001b[0m\u001b[0m\n\u001b[1;32m    834\u001b[0m             \u001b[0;32melse\u001b[0m\u001b[0;34m:\u001b[0m\u001b[0;34m\u001b[0m\u001b[0;34m\u001b[0m\u001b[0m\n\u001b[0;32m--> 835\u001b[0;31m                 \u001b[0mself\u001b[0m\u001b[0;34m.\u001b[0m\u001b[0m_dispatch\u001b[0m\u001b[0;34m(\u001b[0m\u001b[0mtasks\u001b[0m\u001b[0;34m)\u001b[0m\u001b[0;34m\u001b[0m\u001b[0;34m\u001b[0m\u001b[0m\n\u001b[0m\u001b[1;32m    836\u001b[0m                 \u001b[0;32mreturn\u001b[0m \u001b[0;32mTrue\u001b[0m\u001b[0;34m\u001b[0m\u001b[0;34m\u001b[0m\u001b[0m\n\u001b[1;32m    837\u001b[0m \u001b[0;34m\u001b[0m\u001b[0m\n",
      "\u001b[0;32m~/.conda/envs/tensorflow/lib/python3.7/site-packages/joblib/parallel.py\u001b[0m in \u001b[0;36m_dispatch\u001b[0;34m(self, batch)\u001b[0m\n\u001b[1;32m    752\u001b[0m         \u001b[0;32mwith\u001b[0m \u001b[0mself\u001b[0m\u001b[0;34m.\u001b[0m\u001b[0m_lock\u001b[0m\u001b[0;34m:\u001b[0m\u001b[0;34m\u001b[0m\u001b[0;34m\u001b[0m\u001b[0m\n\u001b[1;32m    753\u001b[0m             \u001b[0mjob_idx\u001b[0m \u001b[0;34m=\u001b[0m \u001b[0mlen\u001b[0m\u001b[0;34m(\u001b[0m\u001b[0mself\u001b[0m\u001b[0;34m.\u001b[0m\u001b[0m_jobs\u001b[0m\u001b[0;34m)\u001b[0m\u001b[0;34m\u001b[0m\u001b[0;34m\u001b[0m\u001b[0m\n\u001b[0;32m--> 754\u001b[0;31m             \u001b[0mjob\u001b[0m \u001b[0;34m=\u001b[0m \u001b[0mself\u001b[0m\u001b[0;34m.\u001b[0m\u001b[0m_backend\u001b[0m\u001b[0;34m.\u001b[0m\u001b[0mapply_async\u001b[0m\u001b[0;34m(\u001b[0m\u001b[0mbatch\u001b[0m\u001b[0;34m,\u001b[0m \u001b[0mcallback\u001b[0m\u001b[0;34m=\u001b[0m\u001b[0mcb\u001b[0m\u001b[0;34m)\u001b[0m\u001b[0;34m\u001b[0m\u001b[0;34m\u001b[0m\u001b[0m\n\u001b[0m\u001b[1;32m    755\u001b[0m             \u001b[0;31m# A job can complete so quickly than its callback is\u001b[0m\u001b[0;34m\u001b[0m\u001b[0;34m\u001b[0m\u001b[0;34m\u001b[0m\u001b[0m\n\u001b[1;32m    756\u001b[0m             \u001b[0;31m# called before we get here, causing self._jobs to\u001b[0m\u001b[0;34m\u001b[0m\u001b[0;34m\u001b[0m\u001b[0;34m\u001b[0m\u001b[0m\n",
      "\u001b[0;32m~/.conda/envs/tensorflow/lib/python3.7/site-packages/joblib/_parallel_backends.py\u001b[0m in \u001b[0;36mapply_async\u001b[0;34m(self, func, callback)\u001b[0m\n\u001b[1;32m    207\u001b[0m     \u001b[0;32mdef\u001b[0m \u001b[0mapply_async\u001b[0m\u001b[0;34m(\u001b[0m\u001b[0mself\u001b[0m\u001b[0;34m,\u001b[0m \u001b[0mfunc\u001b[0m\u001b[0;34m,\u001b[0m \u001b[0mcallback\u001b[0m\u001b[0;34m=\u001b[0m\u001b[0;32mNone\u001b[0m\u001b[0;34m)\u001b[0m\u001b[0;34m:\u001b[0m\u001b[0;34m\u001b[0m\u001b[0;34m\u001b[0m\u001b[0m\n\u001b[1;32m    208\u001b[0m         \u001b[0;34m\"\"\"Schedule a func to be run\"\"\"\u001b[0m\u001b[0;34m\u001b[0m\u001b[0;34m\u001b[0m\u001b[0m\n\u001b[0;32m--> 209\u001b[0;31m         \u001b[0mresult\u001b[0m \u001b[0;34m=\u001b[0m \u001b[0mImmediateResult\u001b[0m\u001b[0;34m(\u001b[0m\u001b[0mfunc\u001b[0m\u001b[0;34m)\u001b[0m\u001b[0;34m\u001b[0m\u001b[0;34m\u001b[0m\u001b[0m\n\u001b[0m\u001b[1;32m    210\u001b[0m         \u001b[0;32mif\u001b[0m \u001b[0mcallback\u001b[0m\u001b[0;34m:\u001b[0m\u001b[0;34m\u001b[0m\u001b[0;34m\u001b[0m\u001b[0m\n\u001b[1;32m    211\u001b[0m             \u001b[0mcallback\u001b[0m\u001b[0;34m(\u001b[0m\u001b[0mresult\u001b[0m\u001b[0;34m)\u001b[0m\u001b[0;34m\u001b[0m\u001b[0;34m\u001b[0m\u001b[0m\n",
      "\u001b[0;32m~/.conda/envs/tensorflow/lib/python3.7/site-packages/joblib/_parallel_backends.py\u001b[0m in \u001b[0;36m__init__\u001b[0;34m(self, batch)\u001b[0m\n\u001b[1;32m    588\u001b[0m         \u001b[0;31m# Don't delay the application, to avoid keeping the input\u001b[0m\u001b[0;34m\u001b[0m\u001b[0;34m\u001b[0m\u001b[0;34m\u001b[0m\u001b[0m\n\u001b[1;32m    589\u001b[0m         \u001b[0;31m# arguments in memory\u001b[0m\u001b[0;34m\u001b[0m\u001b[0;34m\u001b[0m\u001b[0;34m\u001b[0m\u001b[0m\n\u001b[0;32m--> 590\u001b[0;31m         \u001b[0mself\u001b[0m\u001b[0;34m.\u001b[0m\u001b[0mresults\u001b[0m \u001b[0;34m=\u001b[0m \u001b[0mbatch\u001b[0m\u001b[0;34m(\u001b[0m\u001b[0;34m)\u001b[0m\u001b[0;34m\u001b[0m\u001b[0;34m\u001b[0m\u001b[0m\n\u001b[0m\u001b[1;32m    591\u001b[0m \u001b[0;34m\u001b[0m\u001b[0m\n\u001b[1;32m    592\u001b[0m     \u001b[0;32mdef\u001b[0m \u001b[0mget\u001b[0m\u001b[0;34m(\u001b[0m\u001b[0mself\u001b[0m\u001b[0;34m)\u001b[0m\u001b[0;34m:\u001b[0m\u001b[0;34m\u001b[0m\u001b[0;34m\u001b[0m\u001b[0m\n",
      "\u001b[0;32m~/.conda/envs/tensorflow/lib/python3.7/site-packages/joblib/parallel.py\u001b[0m in \u001b[0;36m__call__\u001b[0;34m(self)\u001b[0m\n\u001b[1;32m    254\u001b[0m         \u001b[0;32mwith\u001b[0m \u001b[0mparallel_backend\u001b[0m\u001b[0;34m(\u001b[0m\u001b[0mself\u001b[0m\u001b[0;34m.\u001b[0m\u001b[0m_backend\u001b[0m\u001b[0;34m,\u001b[0m \u001b[0mn_jobs\u001b[0m\u001b[0;34m=\u001b[0m\u001b[0mself\u001b[0m\u001b[0;34m.\u001b[0m\u001b[0m_n_jobs\u001b[0m\u001b[0;34m)\u001b[0m\u001b[0;34m:\u001b[0m\u001b[0;34m\u001b[0m\u001b[0;34m\u001b[0m\u001b[0m\n\u001b[1;32m    255\u001b[0m             return [func(*args, **kwargs)\n\u001b[0;32m--> 256\u001b[0;31m                     for func, args, kwargs in self.items]\n\u001b[0m\u001b[1;32m    257\u001b[0m \u001b[0;34m\u001b[0m\u001b[0m\n\u001b[1;32m    258\u001b[0m     \u001b[0;32mdef\u001b[0m \u001b[0m__len__\u001b[0m\u001b[0;34m(\u001b[0m\u001b[0mself\u001b[0m\u001b[0;34m)\u001b[0m\u001b[0;34m:\u001b[0m\u001b[0;34m\u001b[0m\u001b[0;34m\u001b[0m\u001b[0m\n",
      "\u001b[0;32m~/.conda/envs/tensorflow/lib/python3.7/site-packages/joblib/parallel.py\u001b[0m in \u001b[0;36m<listcomp>\u001b[0;34m(.0)\u001b[0m\n\u001b[1;32m    254\u001b[0m         \u001b[0;32mwith\u001b[0m \u001b[0mparallel_backend\u001b[0m\u001b[0;34m(\u001b[0m\u001b[0mself\u001b[0m\u001b[0;34m.\u001b[0m\u001b[0m_backend\u001b[0m\u001b[0;34m,\u001b[0m \u001b[0mn_jobs\u001b[0m\u001b[0;34m=\u001b[0m\u001b[0mself\u001b[0m\u001b[0;34m.\u001b[0m\u001b[0m_n_jobs\u001b[0m\u001b[0;34m)\u001b[0m\u001b[0;34m:\u001b[0m\u001b[0;34m\u001b[0m\u001b[0;34m\u001b[0m\u001b[0m\n\u001b[1;32m    255\u001b[0m             return [func(*args, **kwargs)\n\u001b[0;32m--> 256\u001b[0;31m                     for func, args, kwargs in self.items]\n\u001b[0m\u001b[1;32m    257\u001b[0m \u001b[0;34m\u001b[0m\u001b[0m\n\u001b[1;32m    258\u001b[0m     \u001b[0;32mdef\u001b[0m \u001b[0m__len__\u001b[0m\u001b[0;34m(\u001b[0m\u001b[0mself\u001b[0m\u001b[0;34m)\u001b[0m\u001b[0;34m:\u001b[0m\u001b[0;34m\u001b[0m\u001b[0;34m\u001b[0m\u001b[0m\n",
      "\u001b[0;32m~/.conda/envs/tensorflow/lib/python3.7/site-packages/sklearn/pipeline.py\u001b[0m in \u001b[0;36m_transform_one\u001b[0;34m(transformer, X, y, weight, **fit_params)\u001b[0m\n\u001b[1;32m    705\u001b[0m \u001b[0;34m\u001b[0m\u001b[0m\n\u001b[1;32m    706\u001b[0m \u001b[0;32mdef\u001b[0m \u001b[0m_transform_one\u001b[0m\u001b[0;34m(\u001b[0m\u001b[0mtransformer\u001b[0m\u001b[0;34m,\u001b[0m \u001b[0mX\u001b[0m\u001b[0;34m,\u001b[0m \u001b[0my\u001b[0m\u001b[0;34m,\u001b[0m \u001b[0mweight\u001b[0m\u001b[0;34m,\u001b[0m \u001b[0;34m**\u001b[0m\u001b[0mfit_params\u001b[0m\u001b[0;34m)\u001b[0m\u001b[0;34m:\u001b[0m\u001b[0;34m\u001b[0m\u001b[0;34m\u001b[0m\u001b[0m\n\u001b[0;32m--> 707\u001b[0;31m     \u001b[0mres\u001b[0m \u001b[0;34m=\u001b[0m \u001b[0mtransformer\u001b[0m\u001b[0;34m.\u001b[0m\u001b[0mtransform\u001b[0m\u001b[0;34m(\u001b[0m\u001b[0mX\u001b[0m\u001b[0;34m)\u001b[0m\u001b[0;34m\u001b[0m\u001b[0;34m\u001b[0m\u001b[0m\n\u001b[0m\u001b[1;32m    708\u001b[0m     \u001b[0;31m# if we have a weight for this transformer, multiply output\u001b[0m\u001b[0;34m\u001b[0m\u001b[0;34m\u001b[0m\u001b[0;34m\u001b[0m\u001b[0m\n\u001b[1;32m    709\u001b[0m     \u001b[0;32mif\u001b[0m \u001b[0mweight\u001b[0m \u001b[0;32mis\u001b[0m \u001b[0;32mNone\u001b[0m\u001b[0;34m:\u001b[0m\u001b[0;34m\u001b[0m\u001b[0;34m\u001b[0m\u001b[0m\n",
      "\u001b[0;32m~/.conda/envs/tensorflow/lib/python3.7/site-packages/sklearn/pipeline.py\u001b[0m in \u001b[0;36m_transform\u001b[0;34m(self, X)\u001b[0m\n\u001b[1;32m    555\u001b[0m         \u001b[0mXt\u001b[0m \u001b[0;34m=\u001b[0m \u001b[0mX\u001b[0m\u001b[0;34m\u001b[0m\u001b[0;34m\u001b[0m\u001b[0m\n\u001b[1;32m    556\u001b[0m         \u001b[0;32mfor\u001b[0m \u001b[0m_\u001b[0m\u001b[0;34m,\u001b[0m \u001b[0m_\u001b[0m\u001b[0;34m,\u001b[0m \u001b[0mtransform\u001b[0m \u001b[0;32min\u001b[0m \u001b[0mself\u001b[0m\u001b[0;34m.\u001b[0m\u001b[0m_iter\u001b[0m\u001b[0;34m(\u001b[0m\u001b[0;34m)\u001b[0m\u001b[0;34m:\u001b[0m\u001b[0;34m\u001b[0m\u001b[0;34m\u001b[0m\u001b[0m\n\u001b[0;32m--> 557\u001b[0;31m             \u001b[0mXt\u001b[0m \u001b[0;34m=\u001b[0m \u001b[0mtransform\u001b[0m\u001b[0;34m.\u001b[0m\u001b[0mtransform\u001b[0m\u001b[0;34m(\u001b[0m\u001b[0mXt\u001b[0m\u001b[0;34m)\u001b[0m\u001b[0;34m\u001b[0m\u001b[0;34m\u001b[0m\u001b[0m\n\u001b[0m\u001b[1;32m    558\u001b[0m         \u001b[0;32mreturn\u001b[0m \u001b[0mXt\u001b[0m\u001b[0;34m\u001b[0m\u001b[0;34m\u001b[0m\u001b[0m\n\u001b[1;32m    559\u001b[0m \u001b[0;34m\u001b[0m\u001b[0m\n",
      "\u001b[0;32m~/.conda/envs/tensorflow/lib/python3.7/site-packages/sklearn/preprocessing/_encoders.py\u001b[0m in \u001b[0;36mtransform\u001b[0;34m(self, X)\u001b[0m\n\u001b[1;32m    388\u001b[0m         \u001b[0mcheck_is_fitted\u001b[0m\u001b[0;34m(\u001b[0m\u001b[0mself\u001b[0m\u001b[0;34m)\u001b[0m\u001b[0;34m\u001b[0m\u001b[0;34m\u001b[0m\u001b[0m\n\u001b[1;32m    389\u001b[0m         \u001b[0;31m# validation of X happens in _check_X called by _transform\u001b[0m\u001b[0;34m\u001b[0m\u001b[0;34m\u001b[0m\u001b[0;34m\u001b[0m\u001b[0m\n\u001b[0;32m--> 390\u001b[0;31m         \u001b[0mX_int\u001b[0m\u001b[0;34m,\u001b[0m \u001b[0mX_mask\u001b[0m \u001b[0;34m=\u001b[0m \u001b[0mself\u001b[0m\u001b[0;34m.\u001b[0m\u001b[0m_transform\u001b[0m\u001b[0;34m(\u001b[0m\u001b[0mX\u001b[0m\u001b[0;34m,\u001b[0m \u001b[0mhandle_unknown\u001b[0m\u001b[0;34m=\u001b[0m\u001b[0mself\u001b[0m\u001b[0;34m.\u001b[0m\u001b[0mhandle_unknown\u001b[0m\u001b[0;34m)\u001b[0m\u001b[0;34m\u001b[0m\u001b[0;34m\u001b[0m\u001b[0m\n\u001b[0m\u001b[1;32m    391\u001b[0m \u001b[0;34m\u001b[0m\u001b[0m\n\u001b[1;32m    392\u001b[0m         \u001b[0mn_samples\u001b[0m\u001b[0;34m,\u001b[0m \u001b[0mn_features\u001b[0m \u001b[0;34m=\u001b[0m \u001b[0mX_int\u001b[0m\u001b[0;34m.\u001b[0m\u001b[0mshape\u001b[0m\u001b[0;34m\u001b[0m\u001b[0;34m\u001b[0m\u001b[0m\n",
      "\u001b[0;32m~/.conda/envs/tensorflow/lib/python3.7/site-packages/sklearn/preprocessing/_encoders.py\u001b[0m in \u001b[0;36m_transform\u001b[0;34m(self, X, handle_unknown)\u001b[0m\n\u001b[1;32m    122\u001b[0m                     msg = (\"Found unknown categories {0} in column {1}\"\n\u001b[1;32m    123\u001b[0m                            \" during transform\".format(diff, i))\n\u001b[0;32m--> 124\u001b[0;31m                     \u001b[0;32mraise\u001b[0m \u001b[0mValueError\u001b[0m\u001b[0;34m(\u001b[0m\u001b[0mmsg\u001b[0m\u001b[0;34m)\u001b[0m\u001b[0;34m\u001b[0m\u001b[0;34m\u001b[0m\u001b[0m\n\u001b[0m\u001b[1;32m    125\u001b[0m                 \u001b[0;32melse\u001b[0m\u001b[0;34m:\u001b[0m\u001b[0;34m\u001b[0m\u001b[0;34m\u001b[0m\u001b[0m\n\u001b[1;32m    126\u001b[0m                     \u001b[0;31m# Set the problematic rows to an acceptable value and\u001b[0m\u001b[0;34m\u001b[0m\u001b[0;34m\u001b[0m\u001b[0;34m\u001b[0m\u001b[0m\n",
      "\u001b[0;31mValueError\u001b[0m: Found unknown categories ['CA-2011-124023', 'CA-2013-154053', 'CA-2012-126347', 'CA-2013-105459', 'CA-2014-155740', 'US-2011-107405', 'CA-2011-154837', 'US-2014-132381', 'US-2011-129609', 'CA-2013-135594', 'CA-2012-100573', 'CA-2013-112893', 'CA-2013-147473', 'CA-2012-136700', 'CA-2014-158953', 'CA-2013-162901', 'CA-2014-130834', 'CA-2012-160213', 'CA-2012-113040', 'CA-2012-110947', 'CA-2014-161340', 'CA-2013-164924', 'CA-2013-122581', 'CA-2013-152646', 'CA-2011-104808', 'CA-2011-167724', 'CA-2011-104829', 'CA-2014-160983', 'CA-2014-156720', 'CA-2012-114048', 'CA-2012-142734', 'CA-2012-149636', 'CA-2014-169607', 'CA-2013-136483', 'CA-2012-121405', 'CA-2014-144750', 'CA-2012-119634', 'CA-2014-159107', 'CA-2014-162075', 'CA-2011-119151', 'CA-2012-107902', 'CA-2013-116344', 'CA-2013-122511', 'CA-2014-158736', 'CA-2013-111318', 'CA-2014-130309', 'CA-2013-114944', 'US-2013-102232', 'CA-2013-162348', 'CA-2014-157420', 'US-2014-136707', 'CA-2013-104689', 'CA-2012-131352', 'CA-2013-143154', 'CA-2014-136672', 'US-2013-160206', 'CA-2014-120061', 'CA-2014-121706', 'CA-2013-136406', 'CA-2014-148985', 'CA-2012-104241', 'US-2011-158638', 'CA-2014-161053', 'CA-2012-112823', 'CA-2014-106103', 'CA-2011-141278', 'CA-2011-125759', 'CA-2013-116974', 'CA-2013-118052', 'CA-2014-119564', 'CA-2014-164329', 'CA-2011-140487', 'CA-2012-133445', 'CA-2013-116603', 'CA-2014-140515', 'CA-2013-149454', 'US-2014-136189', 'CA-2013-150000', 'CA-2014-128769', 'CA-2012-127418', 'CA-2014-116855', 'CA-2012-145401', 'CA-2011-151554', 'CA-2012-123456', 'CA-2013-101469', 'CA-2014-112984', 'CA-2012-131779', 'CA-2012-157035', 'CA-2011-137274', 'US-2011-151925', 'US-2014-145863', 'CA-2012-127607', 'CA-2012-169537', 'CA-2014-154123', 'CA-2011-115973', 'CA-2013-127761', 'CA-2014-160934', 'CA-2013-163937', 'US-2011-166828', 'CA-2014-152079', 'CA-2013-123526', 'CA-2014-112333', 'CA-2014-155929', 'US-2014-114034', 'US-2013-164945', 'CA-2012-149650', 'CA-2012-132633', 'CA-2012-113523', 'CA-2012-141565', 'CA-2014-137456', 'CA-2014-101749', 'CA-2013-115224', 'US-2011-134614', 'CA-2013-115525', 'US-2014-156909', 'CA-2013-131639', 'US-2013-114293', 'CA-2014-103506', 'CA-2014-154809', 'US-2014-152492', 'CA-2011-108609', 'CA-2011-145926', 'CA-2014-116204', 'CA-2012-154620', 'CA-2012-103954', 'CA-2012-147879', 'CA-2013-162747', 'CA-2014-167101', 'CA-2011-152345', 'CA-2013-132899', 'CA-2012-105844', 'CA-2014-118668', 'US-2013-147340', 'CA-2013-163202', 'CA-2013-122448', 'CA-2014-135167', 'CA-2011-129574', 'CA-2012-104129', 'CA-2013-160479', 'US-2011-134971', 'CA-2011-100328', 'CA-2012-131534', 'CA-2012-113971', 'CA-2014-109778', 'CA-2012-125416', 'CA-2012-164497', 'CA-2011-155593', 'US-2013-117387', 'CA-2012-146829', 'CA-2012-162376', 'CA-2014-123239', 'CA-2014-143217', 'CA-2014-125990', 'CA-2012-141740', 'CA-2014-145443', 'CA-2012-103961', 'US-2013-100405', 'US-2014-123463', 'US-2012-156797', 'CA-2014-155362', 'US-2011-155894', 'US-2011-156559', 'CA-2013-120558', 'CA-2011-167486', 'CA-2013-130442', 'CA-2012-102036', 'CA-2012-158554', 'CA-2013-130638', 'US-2011-143581', 'CA-2013-111283', 'CA-2013-122322', 'US-2011-163797', 'US-2014-152366', 'CA-2014-100202', 'CA-2011-132542', 'US-2014-153255', 'CA-2014-107167', 'CA-2014-107832', 'CA-2013-113425', 'CA-2013-131737', 'CA-2013-110366', 'CA-2011-106229', 'CA-2014-143455', 'CA-2011-147235', 'CA-2013-158043', 'CA-2013-105900', 'CA-2014-126676', 'US-2014-154851', 'CA-2012-153325', 'CA-2012-145485', 'CA-2013-108105', 'US-2011-147648', 'CA-2014-147725', 'CA-2014-121741', 'CA-2013-149685', 'US-2014-166233', 'US-2013-101196', 'CA-2013-147368', 'CA-2012-158323', 'CA-2012-151722', 'US-2014-105697', 'CA-2012-116638', 'US-2014-146213', 'CA-2014-137505', 'CA-2012-143980', 'CA-2013-162110', 'CA-2013-128923', 'CA-2013-161669', 'CA-2014-149181', 'CA-2013-125206', 'CA-2012-156328', 'US-2014-158946', 'CA-2014-106033', 'CA-2013-125794', 'CA-2014-142867', 'CA-2012-133585', 'CA-2012-155040', 'CA-2012-101126', 'CA-2012-166219', 'CA-2013-100083', 'CA-2012-148628', 'CA-2013-151323', 'CA-2011-104780', 'CA-2014-155047', 'CA-2014-169929', 'CA-2012-118948', 'CA-2013-167416', 'CA-2014-118521', 'CA-2011-130575', 'US-2014-161193', 'CA-2012-151624', 'CA-2014-148012', 'US-2012-158911', 'CA-2013-117681', 'CA-2011-122070', 'CA-2011-108861', 'US-2014-115595', 'CA-2014-154466', 'CA-2014-147403', 'CA-2011-141355', 'US-2012-151407', 'CA-2014-154718', 'CA-2014-163671', 'CA-2011-169642', 'CA-2014-148474', 'US-2014-134481', 'CA-2011-136644', 'CA-2013-120530', 'CA-2013-158806', 'CA-2014-133865', 'CA-2014-129805', 'CA-2014-122945', 'CA-2011-156993', 'CA-2011-103373', 'CA-2011-106719', 'US-2011-118997', 'CA-2014-129581', 'CA-2013-118969', 'CA-2014-169264', 'CA-2012-147690', 'CA-2013-167115', 'CA-2013-147109', 'CA-2013-146913', 'CA-2013-113096', 'CA-2013-149965', 'CA-2013-101742', 'CA-2013-154067', 'CA-2012-129392', 'CA-2012-168004', 'CA-2014-146367', 'CA-2012-126970', 'CA-2011-100972', 'CA-2011-149020', 'CA-2013-166912', 'CA-2011-168823', 'CA-2013-108056', 'CA-2012-100769', 'CA-2014-101308', 'CA-2013-148908', 'CA-2012-117898', 'CA-2013-125017', 'CA-2013-113747', 'CA-2013-148593', 'CA-2014-156139', 'US-2011-131982', 'CA-2013-138933', 'CA-2014-148166', 'CA-2014-143126', 'CA-2013-157000', 'US-2012-165449', 'CA-2013-165148', 'US-2011-107699', 'US-2012-109015', 'CA-2012-162887', 'CA-2012-139094', 'CA-2013-136434', 'CA-2013-144337', 'CA-2014-164917', 'US-2014-139969', 'CA-2012-112522', 'CA-2011-146864', 'CA-2014-164112', 'CA-2013-136133', 'CA-2012-101910', 'CA-2012-121272', 'US-2014-103814', 'CA-2013-158834', 'CA-2014-125752', 'CA-2013-158575', 'CA-2012-163104', 'US-2013-120460', 'CA-2011-152268', 'CA-2013-134362', 'CA-2011-145800', 'CA-2013-121993', 'CA-2011-107811', 'US-2013-148957', 'CA-2014-155460', 'US-2011-156216', 'CA-2012-107020', 'CA-2012-157133', 'CA-2012-168634', 'CA-2013-140634', 'CA-2013-144148', 'CA-2013-140438', 'CA-2014-157350', 'CA-2012-167696', 'CA-2012-105634', 'CA-2012-111038', 'CA-2014-127803', 'CA-2012-109939', 'CA-2013-154403', 'US-2013-112396', 'US-2013-128902', 'CA-2011-108707', 'CA-2013-157686', 'CA-2014-122056', 'CA-2014-102946', 'CA-2012-165813', 'CA-2014-156272', 'CA-2011-168312', 'US-2014-150070', 'CA-2014-160122', 'CA-2014-105823', 'CA-2013-113292', 'CA-2011-165428', 'CA-2012-134782', 'CA-2012-111829', 'CA-2014-152968', 'CA-2012-104115', 'CA-2014-161655', 'CA-2011-147914', 'US-2011-111353', 'CA-2011-165974', 'CA-2014-122154', 'CA-2013-138037', 'CA-2011-155887', 'CA-2012-108672', 'CA-2014-132437', 'CA-2012-103835', 'CA-2014-137421', 'CA-2014-117821', 'CA-2013-132094', 'US-2014-148831', 'CA-2013-133123', 'CA-2012-130995', 'US-2011-120145', 'CA-2012-103072', 'CA-2011-140032', 'CA-2014-122308', 'CA-2013-149223', 'CA-2014-124674', 'CA-2012-145457', 'CA-2014-103009', 'CA-2012-112319', 'CA-2011-101427', 'CA-2013-102456', 'CA-2011-155852', 'CA-2013-159023', 'CA-2011-131051', 'CA-2011-127383', 'CA-2013-140977', 'US-2013-106600', 'CA-2011-132801', 'CA-2014-105193', 'CA-2013-155033', 'US-2014-129441', 'CA-2014-122112', 'US-2014-120649', 'CA-2013-132731', 'CA-2011-164469', 'CA-2014-160087', 'CA-2014-145779', 'CA-2013-152121', 'CA-2013-117282', 'US-2013-141264', 'CA-2014-137099', 'CA-2014-104003', 'CA-2013-105473', 'US-2013-163258', 'CA-2012-130876', 'CA-2011-113166', 'CA-2012-136224', 'CA-2014-152786', 'CA-2012-149384', 'CA-2013-127649', 'CA-2014-143434', 'CA-2012-138625', 'CA-2011-126333', 'CA-2011-129938', 'US-2014-133781', 'CA-2014-153339', 'CA-2013-118101', 'CA-2014-166695', 'CA-2014-168837', 'CA-2014-106782', 'CA-2011-152849', 'US-2013-157840', 'CA-2012-153752', 'US-2011-109162', 'CA-2011-120950', 'CA-2013-149349', 'CA-2011-145541', 'US-2014-143028', 'CA-2014-120327', 'CA-2012-104052', 'US-2014-120089', 'CA-2013-138079', 'US-2012-137533', 'CA-2014-104108', 'US-2013-159093', 'CA-2012-149566', 'CA-2014-166933', 'US-2012-110261', 'CA-2013-124793', 'CA-2012-139738', 'CA-2012-144722', 'CA-2014-124086', 'CA-2014-103611', 'US-2014-110149', 'CA-2012-129700', 'CA-2013-144855', 'CA-2014-160423', 'CA-2011-164749', 'CA-2012-111507', 'CA-2014-152660', 'CA-2013-117849', 'CA-2014-140053', 'CA-2013-161158', 'CA-2013-130225', 'CA-2011-139423', 'CA-2014-155705', 'CA-2014-102659', 'CA-2011-121629', 'CA-2014-105921', 'CA-2012-130253', 'CA-2014-160724', 'CA-2013-134208', 'CA-2012-156153', 'CA-2012-136147', 'CA-2014-160458', 'CA-2011-120887', 'CA-2013-152765', 'CA-2013-137204', 'CA-2014-151911', 'CA-2012-152681', 'CA-2013-117226', 'CA-2011-138296', 'CA-2014-141614', 'CA-2014-121468', 'US-2013-151827', 'CA-2012-122623', 'CA-2011-146815', 'US-2012-157154', 'CA-2011-152422', 'US-2012-113593', 'US-2014-166037', 'CA-2012-122259', 'CA-2011-158064', 'CA-2013-101343', 'CA-2014-145310', 'CA-2013-139885', 'CA-2013-132304', 'CA-2013-143910', 'CA-2012-149300', 'CA-2011-144071', 'CA-2014-128335', 'CA-2014-155376', 'CA-2014-134404', 'US-2013-114776', 'CA-2012-121097', 'CA-2012-124268', 'CA-2012-138674', 'CA-2011-123127', 'CA-2014-100636', 'CA-2012-143238', 'CA-2014-144568', 'CA-2012-142937', 'CA-2014-137365', 'CA-2014-129833', 'US-2013-162026', 'CA-2012-124975', 'CA-2014-165386', 'US-2013-152415', 'CA-2013-132661', 'CA-2013-146521', 'CA-2014-118360', 'CA-2013-144645', 'US-2011-157847', 'CA-2012-120516', 'CA-2011-141173', 'CA-2014-166499', 'CA-2014-146185', 'CA-2014-101574', 'CA-2012-158792', 'CA-2012-128027', 'CA-2013-145492', 'CA-2014-128734', 'US-2013-131674', 'CA-2014-143343', 'CA-2012-145324', 'CA-2012-154200', 'CA-2012-163923', 'CA-2014-102820', 'CA-2014-162250', 'CA-2013-101938', 'CA-2014-125745', 'CA-2012-168186', 'US-2013-144393', 'CA-2014-133501', 'CA-2014-151008', 'CA-2012-125178', 'CA-2013-114104', 'CA-2013-147683', 'CA-2014-166296', 'CA-2014-147753', 'CA-2013-110044', 'CA-2014-152093', 'US-2011-139500', 'CA-2013-109911', 'CA-2014-140508', 'CA-2012-168529', 'CA-2014-101273', 'US-2013-142685', 'CA-2012-164777', 'US-2014-109610', 'CA-2011-152905', 'US-2014-147655', 'CA-2011-163447', 'CA-2012-166583', 'US-2012-150161', 'CA-2011-100391', 'CA-2013-115574', 'CA-2013-106915', 'US-2014-135062', 'CA-2014-148446', 'CA-2012-110870', 'CA-2014-144694', 'CA-2013-120355', 'CA-2012-169796', 'CA-2014-151190', 'CA-2014-136882', 'CA-2012-153794', 'CA-2013-120180', 'CA-2014-167913', 'CA-2014-165029', 'US-2011-141257', 'CA-2012-143602', 'CA-2013-112585', 'CA-2012-168564', 'CA-2012-148873', 'CA-2012-121041', 'CA-2013-101189', 'US-2014-110604', 'CA-2013-111493', 'CA-2014-143861', 'CA-2011-131247', 'US-2014-168613', 'CA-2012-111234', 'CA-2014-102771', 'CA-2011-154627', 'CA-2013-139409', 'CA-2013-113803', 'CA-2014-146031', 'US-2014-105389', 'US-2012-167220', 'CA-2011-103800', 'CA-2014-160045', 'CA-2014-137470', 'CA-2014-116498', 'CA-2014-140536', 'CA-2012-156608', 'CA-2011-110072', 'CA-2013-163048', 'CA-2012-166338', 'CA-2014-153787', 'CA-2013-136924', 'US-2011-150924', 'CA-2013-148201', 'CA-2014-126634', 'CA-2014-128699', 'CA-2013-159765', 'CA-2014-127264', 'CA-2011-109890', 'CA-2013-154788', 'CA-2013-145303', 'CA-2012-115399', 'CA-2011-160157', 'CA-2013-158211', 'CA-2013-154508', 'CA-2013-168536', 'CA-2014-119452', 'CA-2013-126809', 'CA-2011-165477', 'CA-2014-145275', 'CA-2014-144365', 'CA-2013-139878', 'CA-2011-109134', 'CA-2012-138492', 'CA-2014-101728', 'CA-2012-140557', 'US-2011-115987', 'CA-2011-123477', 'CA-2013-140249', 'CA-2011-130624', 'CA-2014-104906', 'CA-2011-140816', 'CA-2011-137589', 'US-2013-158680', 'US-2011-109036', 'CA-2011-127299', 'CA-2013-149482', 'US-2012-125374', 'CA-2013-164896', 'CA-2011-112403', 'CA-2012-118423', 'CA-2011-113047', 'CA-2012-142041', 'CA-2012-129770', 'CA-2011-108147', 'CA-2011-124709', 'CA-2013-105277', 'US-2013-168095', 'CA-2013-137127', 'CA-2011-142979', 'CA-2012-137071', 'CA-2013-163636', 'CA-2013-126102', 'CA-2014-148992', 'CA-2011-121167', 'CA-2014-147144', 'CA-2011-151953', 'CA-2011-138737', 'US-2013-146066', 'CA-2013-147417', 'US-2012-114839', 'CA-2013-150077', 'US-2011-150532', 'CA-2014-127397', 'US-2013-167339', 'CA-2014-118346', 'US-2013-164196', 'CA-2011-100006', 'CA-2013-117660', 'CA-2013-136994', 'US-2014-118535', 'CA-2012-144519', 'CA-2011-119529', 'CA-2014-167080', 'CA-2014-119669', 'CA-2012-151680', 'CA-2014-100951', 'US-2011-150126', 'CA-2013-120803', 'CA-2013-145240', 'CA-2011-122679', 'CA-2013-140613', 'US-2013-134656', 'CA-2014-161088', 'CA-2013-158547', 'CA-2014-118122', 'CA-2011-140473', 'CA-2011-120411', 'CA-2012-132906', 'CA-2011-130421', 'CA-2014-159604', 'CA-2011-120243', 'CA-2014-152261', 'US-2014-118157', 'CA-2014-168102', 'CA-2013-147431', 'US-2014-122714', 'CA-2012-123505', 'CA-2013-120859', 'US-2013-152373', 'CA-2011-104976', 'US-2014-156083', 'CA-2012-125423', 'CA-2011-126963', 'CA-2013-107790', 'CA-2013-150343', 'US-2013-126893', 'CA-2013-105018', 'CA-2014-162712', 'CA-2013-126284', 'CA-2011-132983', 'CA-2014-136000', 'CA-2013-160136', 'CA-2011-101266', 'CA-2011-117317', 'US-2014-101721', 'CA-2014-141446', 'US-2012-142811', 'CA-2012-116841', 'CA-2013-126543', 'CA-2011-109218', 'CA-2013-119445', 'CA-2014-151211', 'US-2012-161347', 'CA-2011-121664', 'CA-2012-133536', 'US-2011-169789', 'CA-2011-110422', 'CA-2012-144253', 'CA-2013-110086', 'CA-2012-150441', 'CA-2013-129196', 'CA-2013-127250', 'CA-2014-151183', 'CA-2014-152961', 'US-2014-145597', 'US-2012-153283', 'CA-2013-123617', 'CA-2014-105130', 'CA-2013-151169', 'CA-2013-113656', 'CA-2014-108112', 'CA-2012-144652', 'US-2012-164966', 'US-2014-141943', 'CA-2013-111409', 'US-2014-120117', 'US-2012-101399', 'CA-2012-130554', 'CA-2014-127929', 'US-2011-126340', 'CA-2014-162880', 'CA-2011-141299'] in column 0 during transform"
     ]
    }
   ],
   "source": [
    "model = make_pipeline(preprocessor , LinearRegression())\n",
    "model.fit(X_train,y_train)\n",
    "model.predict(X_test)"
   ]
  },
  {
   "cell_type": "code",
   "execution_count": null,
   "metadata": {},
   "outputs": [],
   "source": [
    "model.s"
   ]
  }
 ],
 "metadata": {
  "kernelspec": {
   "display_name": "Python 3",
   "language": "python",
   "name": "python3"
  },
  "language_info": {
   "codemirror_mode": {
    "name": "ipython",
    "version": 3
   },
   "file_extension": ".py",
   "mimetype": "text/x-python",
   "name": "python",
   "nbconvert_exporter": "python",
   "pygments_lexer": "ipython3",
   "version": "3.7.6"
  }
 },
 "nbformat": 4,
 "nbformat_minor": 4
}
